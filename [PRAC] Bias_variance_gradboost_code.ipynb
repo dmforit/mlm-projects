{
  "cells": [
    {
      "cell_type": "markdown",
      "metadata": {
        "id": "pmfw3tRsaKRk"
      },
      "source": [
        "# Машинное обучение, ВМК МГУ\n",
        "\n",
        "## Практическое задание 4. Разложение ошибки на смещение и разброс. Градиентный бустинг ~~своими руками~~\n",
        "\n",
        "### Общая информация\n",
        "\n",
        "Дата выдачи: 27.11.2023\n",
        "\n",
        "Мягкий дедлайн: 23:59MSK 11.12.2023\n",
        "\n",
        "Жесткий дедлайн: 23:59MSK 18.12.2023\n",
        "\n",
        "### Оценивание и штрафы\n",
        "Каждая из задач имеет определенную «стоимость» (указана в скобках около задачи). Максимально допустимая оценка за работу — **10 баллов + 1.5 бонусов**. Проверяющий имеет право снизить оценку за неэффективную реализацию или неопрятные графики.\n",
        "\n",
        "**Обратите внимание**, что в каждом разделе домашнего задания есть оцениваниемые задачи и есть вопросы. Вопросы дополняют задачи и направлены на то, чтобы проинтерпретировать или обосновать происходящее. Код без интерпретации не имеет смысла, поэтому отвечать на вопросы обязательно — за отсутствие ответов мы будем снижать баллы за задачи. Если вы ответите на вопросы, но не напишете корректный код к соответствующим оцениваемым задачам, то баллы за такое выставлены не будут.\n",
        "\n",
        "Сдавать задание после указанного срока сдачи нельзя. При выставлении неполного балла за задание в связи с наличием ошибок на усмотрение проверяющего предусмотрена возможность исправить работу на указанных в ответном письме условиях.\n",
        "\n",
        "Задание выполняется самостоятельно. «Похожие» решения считаются плагиатом и все задействованные студенты (в том числе те, у кого списали) не могут получить за него больше 0 баллов (подробнее о плагиате см. на странице курса). Если вы нашли решение какого-то из заданий (или его часть) в открытом источнике, необходимо указать ссылку на этот источник в отдельном блоке в конце вашей работы (скорее всего вы будете не единственным, кто это нашел, поэтому чтобы исключить подозрение в плагиате, необходима ссылка на источник).\n",
        "\n",
        "Неэффективная реализация кода может негативно отразиться на оценке.\n",
        "\n",
        "<p style=\"color:#de3815;font-size:25px;\">\n",
        "Напоминание об оформлении и выполнении ноутбука\n",
        "</p>\n",
        "\n",
        "* Все строчки должны быть выполнены. Нужно, чтобы output команды можно было увидеть, не запуская ячейки (кроме редких случаев, когда необходимо намеренно скрыть ненужный output, про такие случаи желательно писать пояснения в тексте). **В противном случае -1 балл**\n",
        "* При оформлении ДЗ нужно пользоваться данным файлом в качестве шаблона. **Не нужно** удалять и видоизменять написанный код и текст, если явно не указана такая возможность. Создавать новые ячейки с кодом/текстов там, где это осмысленно и вы считаете необходимым, конечно, можно. **В противном случае -1 балл**\n",
        "* В anytask обязательно нужно прикреплять отдельно файл с расширением ipynb (не в архиве, а именно отдельно). Если необходимо отправить еще какие-то файлы, то вынесите их в отдельный архив (если файлов много) и пришлите. **В противном случае -0.5 балла**\n",
        "---\n",
        "* Пишите, пожалуйста, выводы и ответы на вопросы в текстовых ячейках/при помощи print в коде/как результат вывода ячейки. При их отсутствии мы не можем понять, сделали ли вы задание и понимаете, что происходит, и **поэтому будем снижать баллы**\n",
        "* Если алгоритм не сказано реализовывать явно, его всегда можно импортировать из библиотеки.\n",
        "---\n",
        "* Про графики. _Штрафы будут применяться к каждому результату команды отображения графика (plt.show() и др. аналогичные). Исключением являются графики, генерируемые функциями каких-либо сторонних библиотек, если их нельзя кастомизировать_\n",
        "\n",
        "    * должно быть название (plt.title) графика; **В противном случае &ndash; -0.05 балла**\n",
        "    * на графиках должны быть подписаны оси (plt.xlabel, plt.ylabel); **В противном случае &ndash; -0.025 балла за каждую ось**\n",
        "    * должны быть подписаны единицы измерения (если это возможно); **В противном случае &ndash; -0.025 балла за каждую ось**\n",
        "    * все названия должны быть понятны любому человеку, знакомому с терминологией, без заглядывания в код; **В противном случае &ndash; -0.05 балла**\n",
        "    * подписи тиков на осях не должны сливаться как на одной оси, так и между ними; **В противном случае &ndash; -0.025 балла за каждую ось**\n",
        "    * если изображено несколько сущностей на одном холсте (например несколько функций), то необходима поясняющая легенда (plt.legend); **В противном случае &ndash; -0.05 балла**\n",
        "    * все линии на графиках должны быть чётко видны (нет похожих цветов или цветов, сливающихся с фоном); **В противном случае &ndash; -0.05 балла**\n",
        "    * если отображена величина, имеющая очевидный диапазон значений (например, проценты могут быть от 0 до 100), то желательно масштабировать ось на весь диапазон значений (исключением является случай, когда вам необходимо показать малое отличие, которое незаметно в таких масштабах);\n",
        "    * графики должны быть не супер-микро и не супер-макро по размерам, так, чтобы можно было увидеть все, что нужно.\n",
        "    * при необходимости улучшения наглядности графиков, можно пользоваться логарифмической шкалой по осям x/y.\n",
        "    \n",
        "### А также..\n",
        "\n",
        "* Для удобства поиска вопросов, на которые от вас просят ответа, мы пометили их знаком **(?)**\n",
        "* Знак **(!)** означает, что выполнение замечания необходимо для **возможности получения полного балла**\n",
        "* Даем до +0.3 баллов за выдающиеся успехи по субъективному мнению проверяющих. Этот **бонус** не апеллируется\n",
        "\n",
        "### О задании\n",
        "\n",
        "В этом задании вам предстоит воспользоваться возможностями bootstraping для оценки смещения и разброса алгоритмов машинного обучения. Делать мы это будем на данных boston.\n",
        "Также в задании вам будет предложено пообучать готовые модели градиентного бустинга и CatBoost."
      ]
    },
    {
      "cell_type": "markdown",
      "metadata": {
        "id": "AZ9nnM0baKRo"
      },
      "source": [
        "**Напоминание:**\n",
        "    \n",
        "* Все ваши графики должны быть **\"красивыми\"** --- подробнее о том, как их оформлять, можно найти в первом практическом задании. При несоответствии какиму-то из критериев вам могут снять баллы.\n",
        "* Пишите в текстовых ячейках/print в коде ответы на **все вопросы из заданий/просьбы сделать выводы** --- при их отсутствии мы не можем понять, сделали ли вы задание и понимаете, что происходит, и поэтому будем снижать баллы"
      ]
    },
    {
      "cell_type": "markdown",
      "metadata": {
        "id": "gvWXpnJkaKRo"
      },
      "source": [
        "## Часть 1. Bias-Variance Decomposition"
      ]
    },
    {
      "cell_type": "code",
      "execution_count": 1,
      "metadata": {
        "id": "i5jnR_3paKRo"
      },
      "outputs": [],
      "source": [
        "import numpy as np\n",
        "import pandas as pd\n",
        "from matplotlib import pyplot as plt\n",
        "%matplotlib inline"
      ]
    },
    {
      "cell_type": "code",
      "execution_count": 2,
      "metadata": {
        "id": "CQf7hCGraKRp"
      },
      "outputs": [],
      "source": [
        "# from sklearn.datasets import load_boston"
      ]
    },
    {
      "cell_type": "code",
      "execution_count": 3,
      "metadata": {
        "id": "h1IOV_araKRp"
      },
      "outputs": [],
      "source": [
        "# boston = load_boston()"
      ]
    },
    {
      "cell_type": "code",
      "execution_count": 4,
      "metadata": {
        "id": "ESQLUCjmaKRq"
      },
      "outputs": [],
      "source": [
        "# X = boston[\"data\"]\n",
        "# y = boston[\"target\"]"
      ]
    },
    {
      "cell_type": "code",
      "execution_count": 5,
      "metadata": {
        "id": "XoTK4LNbo3Ac"
      },
      "outputs": [],
      "source": [
        "# load_boston был убран из sklearn.datasets\n",
        "# Для импортирования этого датасета используется код ниже\n",
        "\n",
        "data_url = \"http://lib.stat.cmu.edu/datasets/boston\"\n",
        "raw_df = pd.read_csv(data_url, sep=\"\\s+\", skiprows=22, header=None)\n",
        "X = np.hstack([raw_df.values[::2, :], raw_df.values[1::2, :2]])\n",
        "y = raw_df.values[1::2, 2]"
      ]
    },
    {
      "cell_type": "code",
      "execution_count": 6,
      "metadata": {
        "colab": {
          "base_uri": "https://localhost:8080/"
        },
        "id": "lJmx1yVHaKRq",
        "outputId": "0f776beb-775f-491e-c4a1-fae9aabbd4e0"
      },
      "outputs": [
        {
          "output_type": "execute_result",
          "data": {
            "text/plain": [
              "((506, 13), (506,))"
            ]
          },
          "metadata": {},
          "execution_count": 6
        }
      ],
      "source": [
        "X.shape, y.shape"
      ]
    },
    {
      "cell_type": "markdown",
      "metadata": {
        "id": "GGu8WyhYaKRr"
      },
      "source": [
        "### Вычисление bias и variance с помощью бутстрапа\n",
        "На лекции была выведена следующая формула, показывающая, как можно представить ошибку алгоритма регрессии в виде суммы трех компонент:\n",
        "$$\n",
        "L(\\mu) =\n",
        "    \\mathbb{E}_{x, y}\\bigl[\\mathbb{E}_{X}\\bigl[ (y - \\mu(X)(x))^2 \\bigr]\\bigr] =\n",
        "$$\n",
        "$$\n",
        "    \\underbrace{\\mathbb{E}_{x, y}\\bigl[(y - \\mathbb{E}[y|x] )^2\\bigr]}_{\\text{шум}} + \\underbrace{\\mathbb{E}_{x}\\bigl[(\\mathbb{E}_{X}[\\mu(X)(x)] - \\mathbb{E}[y|x] )^2\\bigr]}_{\\text{смещение}} +\n",
        "    \\underbrace{\\mathbb{E}_{x}\\bigl[\\mathbb{E}_{X}\\bigl[(\\mu(X)(x) - \\mathbb{E}_{X}[\\mu(X)(x)] )^2\\bigr]\\bigr]}_{\\text{разброс}},\n",
        "$$\n",
        "* $\\mu(X)$ — алгоритм, обученный по выборке $X = \\{(x_1, y_1), \\dots (x_\\ell, y_\\ell)\\}$;\n",
        "* $\\mu(X)(x)$ — ответ алгоритма, обученного по выборке $X$, на объекте $x$;\n",
        "* $\\mathbb{E}_{X}$ — мат. ожидание по всем возможным выборкам;\n",
        "* $\\mathbb{E}_{X}[\\mu(X)(x)]$ — \"средний\" ответ алгоритма, обученного по всем возможным выборкам $X$, на объекте $x$.\n",
        "    \n",
        "С помощью этой формулы мы можем анализировать свойства алгоритма обучения модели $\\mu$, если зададим вероятностную модель порождения пар $p(x, y)$.\n"
      ]
    },
    {
      "cell_type": "markdown",
      "metadata": {
        "id": "GlQZFe_Ial-_"
      },
      "source": [
        "__Задание 0. (1. балл)__\n",
        "\n",
        "Сначала разберемся с теорией, для чего решим упрощенную задачу. Пусть мы имеем некоторую выборку $D={Y_1,Y_2,...,Y_k}$. Мы хотим построить константный алгоритм предсказания новых объектов из этой выборки таким образом чтобы он минимизировал функционал $L(c) = \\frac{1}{k}\\sum_{i=1}^{k}(Y_i - c)^2 + λc^2$, где $λ$ - некоторый известный коэффициент регулягизации.\n",
        "\n",
        "Найдите оптимальную константу и оцените смещение и разброс такой оценки, если известно что выборка $D$ семплировалась из распределения Стьюдента с параметром n=8."
      ]
    },
    {
      "cell_type": "markdown",
      "metadata": {
        "id": "x21DQydcGeEj"
      },
      "source": [
        "***Ваше решение здесь***\n",
        "\n",
        "Ищем разложение для следующего функционала: $\\mathcal{L} = \\mathbb{E}_D\\bigl[ \\mathbb{E}_Y\\bigl[(Y - c)^2\\bigr]\\bigr]$\n",
        "\n",
        "1. Для начала найдём оптимальную константу $c$, при которой минимизируется функционал $L(c) = \\frac{1}{k}\\sum_{i=1}^{k}(Y_i - c)^2 + \\lambda c^2$\n",
        "\n",
        "$$ \\dfrac{\\partial{L}}{\\partial{c}} = \\dfrac{2}{k}\\sum_{i=1}^{k}(c - Y_i) + 2\\lambda c \\Rightarrow \\biggl[\\dfrac{\\partial{L}}{\\partial{c}} = 0\\biggr] \\Rightarrow 2c - \\dfrac{2}{k}\\sum_{i=1}^{k}Y_i + 2\\lambda c = 0 \\Rightarrow\n",
        "$$\n",
        "$$\n",
        "c_{opt} = \\dfrac{1}{(\\lambda + 1)k}\\sum_{i=1}^{k}Y_i\n",
        "$$\n",
        "\n",
        "2. Разложение функционала $\\mathcal{L}$ по формуле из лекции имеет следующий вид:\n",
        "\n",
        "$$\\mathcal{L}|_{c \\: = \\: c_{opt} } = \\underbrace{ \\mathbb{E}_Y \\bigl[(Y - \\mathbb{E}_Y[Y])^2 \\bigr]}_{\\text{шум}} + \\underbrace{(\\mathbb{E}_{D}[c_{opt}] - \\mathbb{E}_Y[Y])^2}_{\\text{смещение}} + \\underbrace{\\mathbb{E}_{D}\\bigl[(c_{opt} - \\mathbb{E}_{D}[c_{opt}] )^2\\bigr]}_{\\text{разброс}}\n",
        "$$\n",
        "\n",
        "3. Найдём каждую компоненту разложения $\\mathcal{L}|_{c \\: = \\: c_{opt} }$\n",
        "\n",
        "    1. ***Шум*** $=$ [Формула дисперсии случайной величины из распределения Стьюдента] $=$  \n",
        "$$\n",
        "\\mathcal{D}[Y] = \\dfrac{n}{n - 2}\\bigg|_{n \\: = \\: 8} = \\dfrac{4}{3}\n",
        "$$\n",
        "    2. ***Смещение***\n",
        "$$\n",
        "(\\mathbb{E}_{D}[c_{opt}] - \\mathbb{E}_Y[Y])^2 =\n",
        "$$\n",
        "$$\n",
        "\\left(\\mathbb{E}_{D}\\biggl[\\dfrac{1}{(\\lambda + 1)k}\\sum_{i=1}^{k}Y_i\\biggr] - \\mathbb{E}_Y[Y]\\right)^2 =\n",
        "$$\n",
        "$$\n",
        "\\left(\\dfrac{1}{(\\lambda + 1)k} \\sum_{i=1}^{k} \\mathbb{E}_{D}[Y_i] - \\mathbb{E}_Y[Y]\\right)^2 = \\left(\\dfrac{1}{(\\lambda + 1)k} \\sum_{i=1}^{k} \\mathbf{0}  - \\mathbf{0}\\right)^2 = \\mathbf{0}\n",
        "$$\n",
        "    3. ***Разброс***\n",
        "$$\n",
        "\\mathbb{E}_{D}\\bigl[(c_{opt} - \\mathbb{E}_{D}[c_{opt}] )^2\\bigr] =\n",
        "$$\n",
        "$$\n",
        "\\mathbb{E}_{D}\\biggl[\\left(\\dfrac{1}{(\\lambda + 1)k}\\sum_{i=1}^{k}Y_i - \\mathbb{E}_{D} \\left[ \\dfrac{1}{(\\lambda + 1)k}\\sum_{i=1}^{k}Y_i \\right] \\right)^2\\biggr] =\n",
        "$$\n",
        "$$\n",
        "\\dfrac{1}{(\\lambda + 1)^2k^2} \\mathbb{E}_{D}\\biggl[\\left(\\sum_{i=1}^{k}Y_i - \\mathbb{E}_{D} \\left[\\sum_{i=1}^{k}Y_i \\right] \\right)^2\\biggr] =\n",
        "$$\n",
        "<center>[В скобках стоит не что иное как дисперсия $\\mathcal{D}[\\sum_{i=1}^{k}Y_i]$] =</center>\n",
        "$$\n",
        "\\dfrac{1}{(\\lambda + 1)^2k^2} \\mathcal{D}_D[\\sum_{i=1}^{k}Y_i] = \\dfrac{4k}{3(\\lambda + 1)^2k^2} = \\dfrac{4}{3(\\lambda + 1)^2k}\n",
        "$$\n",
        "\n",
        "\n",
        "\n",
        "\n",
        "\n",
        "\n",
        "\n",
        "\n",
        "\n",
        "\n",
        "\n",
        "\n",
        "\n",
        "\n",
        "\n",
        "\n",
        "\n",
        "\n",
        "\n",
        "\n"
      ]
    },
    {
      "cell_type": "markdown",
      "metadata": {
        "id": "gLgH1IxdaiGb"
      },
      "source": [
        "В реальных задачах мы, конечно же, не знаем распределение на парах объект - правильный ответ. Однако у нас есть набор семплов из этого распределения (обучающую выборка), и мы можем использовать его, чтобы оценивать математические ожидания. Для оценки мат. ожиданий по выборкам мы будем пользоваться бутстрэпом - методом генерации \"новых\" выборок из одной с помощью выбора объектов с возвращением. Разберем несколько шагов на пути к оценке смещения и разброса.\n",
        "\n",
        "#### Приближенное вычисление интегралов\n",
        "На занятиях мы разбирали примеры аналитического вычисления смещения и разброса нескольких алгоритмов обучения. Для большинства моделей данных и алгоритмов обучения аналитически рассчитать математические ожидания в формулах не удастся. Однако мат. ожидания можно оценивать приближенно. Чтобы оценить математическое ожидание $\\mathbb{E}_{\\bar z} f(\\bar z)$ функции от многомерной случайной величины $\\bar z = (z_1, \\dots, z_d)$, $\\bar z \\sim p(\\bar z)$, можно сгенерировать выборку из распределения $p(\\bar z)$ и усреднить значение функции на элементах этой выборки:\n",
        "$$\\mathbb{E}_{\\bar z} f(z) = \\int f(\\bar z) p(\\bar z) d \\bar z \\approx \\frac 1 m \\sum_{i=1}^m f(\\bar z_i), \\, \\bar z_i \\sim p(\\bar z), i = 1, \\dots, m.$$\n",
        "\n",
        "Например, оценим $\\mathbb{E}_z z^2,$ $z \\sim \\mathcal{N}(\\mu=5, \\sigma=3)$ (из теории вероятностей мы знаем, что\n",
        "$\\mathbb{E}_z z^2 = \\sigma^2 + \\mu^2 = 34$):"
      ]
    },
    {
      "cell_type": "code",
      "execution_count": 7,
      "metadata": {
        "colab": {
          "base_uri": "https://localhost:8080/"
        },
        "id": "JdcVnhPWaKRr",
        "outputId": "99fed733-a8d6-4f31-ef52-69199faae6ce"
      },
      "outputs": [
        {
          "output_type": "stream",
          "name": "stdout",
          "text": [
            "32.49000418918208\n",
            "33.589707975510045\n",
            "33.82605217102036\n"
          ]
        }
      ],
      "source": [
        "np.random.seed(7)\n",
        "z = np.random.normal(loc=5, scale=3, size=1000)\n",
        "print((z**2).mean())\n",
        "\n",
        "np.random.seed(7)\n",
        "z = np.random.normal(loc=5, scale=3, size=10000)\n",
        "print((z**2).mean())\n",
        "\n",
        "np.random.seed(7)\n",
        "z = np.random.normal(loc=5, scale=3, size=100000)\n",
        "print((z**2).mean())"
      ]
    },
    {
      "cell_type": "markdown",
      "metadata": {
        "id": "CbfItlSuaKRr"
      },
      "source": [
        "#### Оценивание $\\mathbb{E}_{x, y}$\n",
        "Оценить мат. ожидания по $x$ и по $x, y$, встречающиеся во всех трех компонентах разложения, несложно, потому что у нас есть выборка объектов из распределения данных $p(x, y)$:\n",
        "$$ \\mathbb{E}_{x} f(x) \\approx \\frac 1 N \\sum_{i=1}^N f(x_i), \\quad\n",
        "\\mathbb{E}_{x, y} f(x, y) \\approx \\frac 1 N \\sum_{i=1}^N f(x_i, y_i),$$\n",
        "где $N$ - число объектов в выборке, $\\{(x_i, y_i)\\}_{i=1}^N$ - сама выборка.\n",
        "\n",
        "#### Оценивание $\\mathbb{E}_X$ с помощью бутстрапа\n",
        "Чтобы оценить мат. ожидание по $X$, нам понадобится выборка из выборок:\n",
        "$$\\mathbb{E}_X f(X) \\approx \\frac 1 s \\sum_{j=1}^s f(X_j),$$\n",
        "где $X_j$ - $j$-я выборка. Чтобы их получить, мы можем воспользоваться бутстрапом - методом генерации выборок на основе выбора объектов с возвращением. Чтобы составить одну выборку, будем $N$ раз выбирать индекс объекта $i \\sim \\text{Uniform}(1 \\dots N)$ и добавлять $i$-ю пару (объект, целевая переменная) в выборку. В результате в каждой выборке могут появиться повторяющиеся объекты, а какие-то объекты могут вовсе не войти в некоторые выборки.\n",
        "\n",
        "#### Итоговый алгоритм оценки смещения и разброса алгоритма $a$\n",
        "1. Сгенерировать $s$ выборок $X_j$ методом бутстрапа.\n",
        "1. На каждой выборке $X_j$ обучить алгоритм $a_j$.\n",
        "1. Для каждой выборки $X_j$ определить множество объектов $T_j$, не вошедших в нее (out-of-bag). Вычислить предсказания алгоритма $a_j$ на объектах $T_j$.\n",
        "\n",
        "Поскольку у нас есть только один ответ для каждого объекта, мы будем считать шум равным 0, а $\\mathbb{E}[y|x]$ равным имеющемуся правильному ответу для объекта $x$.\n",
        "\n",
        "Итоговые оценки:\n",
        "* Смещение: для одного объекта - квадрат разности среднего предсказания и правильного ответа. Среднее предсказание берется только по тем алгоритмам $a_j$, для которых этот объект входил в out-of-bag выборку $T_j$. Для получения общего смещения выполнить усреденение смещений по объектам.\n",
        "* Разброс: для одного объекта - выборочная дисперсия предсказаний алгоритмов $a_j$, для которых этот объект входил в out-of-bag выборку $T_j$. Для получения общего разброса выполнить усреденение разбросов по объектам.\n",
        "* Ошибка $L$: усреднить квадраты разностей предсказания и правильного ответа по всем выполненным предсказаниям для всех объектов.\n",
        "\n",
        "В результате должно получиться, что ошибка приблизительно равна сумме смещения и разброса!\n",
        "\n",
        "Алгоритм также вкратце описан по [ссылке](https://web.engr.oregonstate.edu/~tgd/classes/534/slides/part9.pdf) (слайды 19-21).\n",
        "\n",
        "__Задание 1. (1. балл)__\n",
        "\n",
        "Реализуйте описанный алгоритм. Обратите внимание, что если объект не вошел ни в одну из out-of-bag выборок, учитывать его в вычислении итоговых величин не нужно. Как обычно, разрешается использовать только один цикл - по выборкам (от 0 до num_runs-1)."
      ]
    },
    {
      "cell_type": "code",
      "execution_count": 8,
      "metadata": {
        "id": "mgUyXSTfaKRs"
      },
      "outputs": [],
      "source": [
        "def compute_biase_variance(regressor, X, y, num_runs=1000):\n",
        "    \"\"\"\n",
        "    :param regressor: sklearn estimator with fit(...) and predict(...) method\n",
        "    :param X: numpy-array representing training set ob objects, shape [n_obj, n_feat]\n",
        "    :param y: numpy-array representing target for training objects, shape [n_obj]\n",
        "    :param num_runs: int, number of samples (s in the description of the algorithm)\n",
        "\n",
        "    :returns: bias (float), variance (float), error (float)\n",
        "    each value is computed using bootstrap\n",
        "    \"\"\"\n",
        "    ### your code here ╰( ͡° ͜ʖ ͡° )つ──☆*:・\n",
        "    # np.random.seed(42)\n",
        "\n",
        "    samples = [np.random.randint(0, X.shape[0], X.shape[0]) for run in np.arange(num_runs)]\n",
        "    oob_samples = [np.array(list(set(np.arange(X.shape[0])) - set(sample)), dtype=int) for sample in samples]\n",
        "    predictions = np.empty((X.shape[0], num_runs))\n",
        "    predictions[:] = np.nan\n",
        "\n",
        "    for ind, sample in enumerate(samples):\n",
        "        regressor.fit(X[sample], y[sample])\n",
        "        if oob_samples[ind].shape[0]:\n",
        "            preds = regressor.predict(X[oob_samples[ind]])\n",
        "            predictions[oob_samples[ind], ind] = preds\n",
        "\n",
        "    bias = ((np.true_divide(np.nansum(predictions, axis=1), np.count_nonzero(~np.isnan(predictions), axis=1)) - y) ** 2).mean()\n",
        "    variance = np.nanvar(predictions, axis=1).mean()\n",
        "\n",
        "    error = np.where(np.nan_to_num(predictions) != 0, np.nan_to_num(predictions) - y.reshape(-1, 1), 0) ** 2\n",
        "    error = np.sum(error) / np.count_nonzero(error)\n",
        "\n",
        "    return bias, variance, error"
      ]
    },
    {
      "cell_type": "markdown",
      "metadata": {
        "id": "OyfjIm-caKRs"
      },
      "source": [
        "**Задание 2. (0.5 баллa)**\n",
        "\n",
        "**(0.3 балла)** Оцените смещение, разброс и ошибку для трех алгоритмов с гиперпараметрами по умолчанию: линейная регрессия, решающее дерево, случайный лес.\n"
      ]
    },
    {
      "cell_type": "code",
      "execution_count": 9,
      "metadata": {
        "id": "Sb686t44aKRs"
      },
      "outputs": [],
      "source": [
        "### your code here ╰( ͡° ͜ʖ ͡° )つ──☆*:・ﾟ\n",
        "from prettytable import PrettyTable\n",
        "table = ['Name', 'Bias', 'Variance', 'Error', 'Divergence']\n",
        "tab = PrettyTable(table)\n",
        "tab.hrules = 1"
      ]
    },
    {
      "cell_type": "code",
      "execution_count": 10,
      "metadata": {
        "colab": {
          "base_uri": "https://localhost:8080/"
        },
        "id": "_XzW8CcD6-Pk",
        "outputId": "e33e8519-8b57-4759-d8a8-25e266248731"
      },
      "outputs": [
        {
          "output_type": "stream",
          "name": "stdout",
          "text": [
            "+-------------------+--------------------+--------------------+--------------------+----------------------+\n",
            "|        Name       |        Bias        |      Variance      |       Error        |      Divergence      |\n",
            "+-------------------+--------------------+--------------------+--------------------+----------------------+\n",
            "| Linear Regression | 23.784042044776516 | 0.9822130679313739 | 24.804018441745367 | 0.037763329037478144 |\n",
            "+-------------------+--------------------+--------------------+--------------------+----------------------+\n",
            "|   Decision Tree   | 10.86852788848814  | 12.277343144756625 | 23.667672085974097 |  0.5218010527293302  |\n",
            "+-------------------+--------------------+--------------------+--------------------+----------------------+\n",
            "|   Random Forest   | 10.474249703948951 | 2.183306389414553  | 12.526363570602225 | -0.13119252276127824 |\n",
            "+-------------------+--------------------+--------------------+--------------------+----------------------+\n"
          ]
        }
      ],
      "source": [
        "### your code here ╰( ͡° ͜ʖ ͡° )つ──☆*:・ﾟ\n",
        "from sklearn.linear_model import LinearRegression\n",
        "from sklearn.tree import DecisionTreeRegressor\n",
        "from sklearn.ensemble import RandomForestRegressor\n",
        "\n",
        "linreg = compute_biase_variance(LinearRegression(), X, y, 100)\n",
        "decision_tree = compute_biase_variance(DecisionTreeRegressor(), X, y, 100)\n",
        "random_forest = compute_biase_variance(RandomForestRegressor(), X, y, 100)\n",
        "\n",
        "tab.add_row(['Linear Regression', linreg[0], linreg[1], linreg[2], linreg[2] - (linreg[0] + linreg[1])])\n",
        "tab.add_row(['Decision Tree', decision_tree[0], decision_tree[1], decision_tree[2], decision_tree[2] - (decision_tree[0] + decision_tree[1])])\n",
        "tab.add_row(['Random Forest', random_forest[0], random_forest[1], random_forest[2], random_forest[2] - (random_forest[0] + random_forest[1])])\n",
        "print(tab)"
      ]
    },
    {
      "cell_type": "markdown",
      "metadata": {
        "id": "mSq3AarWaKRs"
      },
      "source": [
        "**(0.1 балл) (?)** Проанализируйте полученный результат. Согласуются ли полученные результаты с теми, что мы обсуждали на семинарах (с комментарием)?\n",
        "\n",
        "__Your answer here:__ Полученные результаты согласуются с теми, что мы обсуждали на семинарах. Сумма смещения и разброса действительно приблизительно равна самой ошибке. Однако мы имеем погрешность, которая связана с количеством бутстрапированных выборок, по которым идёт усреднение, с пренебрежением шума и приблизительной оценке математического ожидания.\n",
        "\n",
        "Также стоит вспомнить, что смещение показывает, насколько хорошо модель описывает истинную зависимость. У линейной модели смещение большое, что говорит о наличии нелинейных признаков в исходной зависимости. Остальные модели имеют меньшее смещение, ибо как решающее дерево, так и случайный лес могут моделировать зависимости любого характера.\n",
        "\n",
        "Разброс же показывает, насколько модель чувствительна к изменениям в обучающей выборке. Деревья очень склонны к переобучению, из-за чего у них высокий разброс. Ансамбль деревьев уменьшает разброс, что мы и получили как результат, а линейная модель имеет небольшой разброс, так как она описывает лишь линейные зависимости, и изменения в изначальных данных приведут лишь к смещению полученной гиперплоскости, а также незначительному изменению её наклона.\n",
        "\n",
        "\n",
        "**(0.1 балл) (?)** Вспомните во сколько раз в теории бутстрап уменьшает разброс базового алгоритма. Выполняется ли это в ваших экспериментах? Если нет, поясните, почему.\n",
        "\n",
        "__Your answer here:__\n",
        "При отсутствии корреляции в данных, бутстрап уменьшает разброс в $N$ раз, где $N$ - это число бутстрапированных выборок. Если присутствует корреляция, то уменьшение разброса будет менее значительным в виду присутствия дополнительного слагаемого - ковариации. Наши результаты показывают, что данные имеют корреляцию, так как разброс решающего дерева отличается от разброса случайного леса в $6$ раз, а не в $100$ ($100$ - число деревьев в случайном лесе по умолчанию). Здесь $100$ - число бутстрапированных выборок.\n"
      ]
    },
    {
      "cell_type": "markdown",
      "metadata": {
        "id": "YE2ZJghsaKRs"
      },
      "source": [
        "### Визуализация предсказаний базовых алгоритмов бэггинга\n",
        "\n",
        "В материалах лекций можно найти изображение, похожее на мишень - визуализация алгоритмов с разным смещением и разным разбросом. В центре \"мишени\" - правильный ответ, а \"попадания\" - предсказания алгоритмов, обученных по разным выборкам. Построим похожее изображение на наших данных для трех алгоритмов. Наши \"мишени\" будут одномерными, потому что мы решаем задачу одномерной регрессии.\n",
        "\n",
        "__Задание 3. (1.5 балла)__\n",
        "\n",
        "**(0.5 балла)** Реализуйте фукнцию plot_predictions. Она должна выполнять следующие действия:\n",
        "1. Случайно выбрать num_test_objects пар объект-целевая переменная из выборки X, y. Получится две выборки: маленькая X_test, y_test (выбранные тестовые объекты) и X_train, y_train (остальные объекты).\n",
        "1. Сгенерировать num_runs выборок методом бутстарапа из X_train, y_train. На каждой выборке обучить алгоритм regressor и сделать предсказания для X_test.\n",
        "1. Нарисовать scatter-график. По оси абсцисс - объекты тестовой выборки (номера от 0 до num_test_objects-1), по оси ординат - предсказания для каждого из num_runs выборок. В итоге получится num_test_objects столбиков с точками. Для каждого тестового объекта надо отметить одним цветом (в рамках каждого номера объекта, т.е. предсказания для объектов с одинаковым номером -- одинаковым цветом, а с разными -- разными цветами) все предсказания для него, а также черным цветом отметить правильный ответ.\n",
        "1. Подпишите оси и название графика (аргумент title)."
      ]
    },
    {
      "cell_type": "code",
      "execution_count": 11,
      "metadata": {
        "id": "3-1N-pstaKRs"
      },
      "outputs": [],
      "source": [
        "def plot_predictions(regressor, X, y, num_runs=100, num_test_objects=10, title=\"\", seed=42):\n",
        "    \"\"\"\n",
        "    plot graphics described above\n",
        "    \"\"\"\n",
        "    ### your code here ╰( ͡° ͜ʖ ͡° )つ──☆*:・ﾟ\n",
        "    np.random.seed(seed)\n",
        "\n",
        "    test_inds = np.random.randint(0, X.shape[0], num_test_objects)\n",
        "    train_inds = np.array(list(set(np.arange(X.shape[0])) - set(test_inds)), dtype=int)\n",
        "\n",
        "    samples = [np.random.randint(0, train_inds.shape[0], train_inds.shape[0]) for run in np.arange(num_runs)]\n",
        "\n",
        "    for ind, sample in enumerate(samples):\n",
        "        regressor.fit(X[train_inds][sample], y[train_inds][sample])\n",
        "        preds = regressor.predict(X[test_inds])\n",
        "        plt.scatter(np.arange(num_test_objects), preds, c=plt.cm.winter(np.linspace(0, 1, num_test_objects)))\n",
        "        plt.xlabel('Номера объектов')\n",
        "        plt.ylabel('Предсказания')\n",
        "        plt.title(title)\n",
        "    plt.grid(linestyle='--')\n",
        "    plt.scatter(np.arange(num_test_objects), y[test_inds], c='black')\n",
        "    plt.ylim(0, 45)"
      ]
    },
    {
      "cell_type": "markdown",
      "metadata": {
        "id": "zTAtaFa0aKRs"
      },
      "source": [
        "**(0.5 баллa)** Нарисуйте графики для линейной регрессии, решающего дерева и случайного леса. Нарисуйте три графика в строчку (это можно сделать с помощью plt.subplot) с одинаковой осью ординат (это важно для понимания масштаба разброса у разных алгоритмов):"
      ]
    },
    {
      "cell_type": "code",
      "execution_count": 12,
      "metadata": {
        "colab": {
          "base_uri": "https://localhost:8080/",
          "height": 564
        },
        "id": "w0bFvO76aKRt",
        "outputId": "58e9960e-0fde-4613-e171-b37ba84d4116"
      },
      "outputs": [
        {
          "output_type": "display_data",
          "data": {
            "text/plain": [
              "<Figure size 1600x600 with 3 Axes>"
            ],
            "image/png": "[encoded data removed]"
          },
          "metadata": {}
        }
      ],
      "source": [
        "### your code here ╰( ͡° ͜ʖ ͡° )つ──☆*:・ﾟ\n",
        "fig = plt.figure(figsize=(16, 6))\n",
        "plt.subplot(1, 3, 1)\n",
        "plot_predictions(LinearRegression(), X, y, title='Линейная регрессия')\n",
        "plt.subplot(1, 3, 2)\n",
        "plot_predictions(DecisionTreeRegressor(), X, y, title='Решающее дерево')\n",
        "plt.subplot(1, 3, 3)\n",
        "plot_predictions(RandomForestRegressor(), X, y, title='Случайный лес')"
      ]
    },
    {
      "cell_type": "markdown",
      "metadata": {
        "id": "8yeEKqsFaKRt"
      },
      "source": [
        "**(0.5 балла) (?)** Для каждого графика прокомментируйте, как он характеризует смещение и разброс соответствующего алгоритма.\n",
        "\n",
        "**Your answer here:**\n",
        "\n",
        "1. График для линейной регрессии\n",
        "\n",
        "Видно, что предсказания модели кучкуются, но центр большинства пучков находится дальше от реального ответа, что говорит о маленьком разбросе (ввиду кучкования) и большом смещении\n",
        "\n",
        "2. График для решающего дерево\n",
        "\n",
        "На представленном графике можно заметить, что предсказания сильно разбросаны, так как сильно отклоняюся от реального ответа, однако в среднем реальный ответ находится ближе к середине каждого пучка, что говорит о меньшем смещении, как, например, у линейной модели\n",
        "\n",
        "3. График для случайного леса\n",
        "\n",
        "В отличие от решающего дерева, разброс данной модели гораздо меньше. Он сравним с разбросом линейной модели, хоть и для случайного леса разброс немного больше. Смещение же в целом немного меньше, чем у линейной модели, ибо пучки предсказаний находятся ближе к реальному ответу."
      ]
    },
    {
      "cell_type": "markdown",
      "metadata": {
        "id": "5zvj3UZ1aKRt"
      },
      "source": [
        "### Часть 2. Градиентный бустинг"
      ]
    },
    {
      "cell_type": "markdown",
      "metadata": {
        "id": "XxRrcfwGaKRt"
      },
      "source": [
        "**Задание 4 (0.5 балла)**\n",
        "\n",
        "Мы будем использовать данные из [соревнования](https://www.kaggle.com/t/b710e05dc0bd424995ca94da5b639869) (вам нужны только данные, посылать туда ничего не надо).\n",
        "* Загрузите таблицу application_train.csv;\n",
        "* Запишите в Y столбец с целевой переменной (TARGET);\n",
        "* Удалите ненужные столбцы:\n",
        "    * Воспользуйтесь описанием соревнования\n",
        "    * При желании, воспользуйтесь методами feature selection/стат. методами, если хотите. Объясните, что использовали и почему решили выкинуть тот или иной признак.\n",
        "* Определите тип столбцов и заполните пропуски - стратегия произвольная;\n",
        "* Разбейте выборку в соотношении 70:30 с random_state=0. Если считаете нужным, сделайте сбалансированное по классам разбиение.\n",
        "\n",
        "Так как в данных имеется значительный дисбаланс классов, в качестве метрики качества везде будем использовать площадь под precision-recall кривой (AUC-PR)."
      ]
    },
    {
      "cell_type": "code",
      "execution_count": 13,
      "metadata": {
        "colab": {
          "base_uri": "https://localhost:8080/"
        },
        "id": "7zvTcRVncK-G",
        "outputId": "bd9dd3bc-f2c7-40af-f0a2-8f96b3399189"
      },
      "outputs": [
        {
          "output_type": "stream",
          "name": "stdout",
          "text": [
            "Requirement already satisfied: kaggle in /usr/local/lib/python3.10/dist-packages (1.5.16)\n",
            "Requirement already satisfied: six>=1.10 in /usr/local/lib/python3.10/dist-packages (from kaggle) (1.16.0)\n",
            "Requirement already satisfied: certifi in /usr/local/lib/python3.10/dist-packages (from kaggle) (2023.11.17)\n",
            "Requirement already satisfied: python-dateutil in /usr/local/lib/python3.10/dist-packages (from kaggle) (2.8.2)\n",
            "Requirement already satisfied: requests in /usr/local/lib/python3.10/dist-packages (from kaggle) (2.31.0)\n",
            "Requirement already satisfied: tqdm in /usr/local/lib/python3.10/dist-packages (from kaggle) (4.66.1)\n",
            "Requirement already satisfied: python-slugify in /usr/local/lib/python3.10/dist-packages (from kaggle) (8.0.1)\n",
            "Requirement already satisfied: urllib3 in /usr/local/lib/python3.10/dist-packages (from kaggle) (2.0.7)\n",
            "Requirement already satisfied: bleach in /usr/local/lib/python3.10/dist-packages (from kaggle) (6.1.0)\n",
            "Requirement already satisfied: webencodings in /usr/local/lib/python3.10/dist-packages (from bleach->kaggle) (0.5.1)\n",
            "Requirement already satisfied: text-unidecode>=1.3 in /usr/local/lib/python3.10/dist-packages (from python-slugify->kaggle) (1.3)\n",
            "Requirement already satisfied: charset-normalizer<4,>=2 in /usr/local/lib/python3.10/dist-packages (from requests->kaggle) (3.3.2)\n",
            "Requirement already satisfied: idna<4,>=2.5 in /usr/local/lib/python3.10/dist-packages (from requests->kaggle) (3.6)\n"
          ]
        }
      ],
      "source": [
        "!pip install kaggle"
      ]
    },
    {
      "cell_type": "code",
      "execution_count": 14,
      "metadata": {
        "colab": {
          "base_uri": "https://localhost:8080/",
          "height": 90
        },
        "id": "H4ag4-Y1cNRN",
        "outputId": "04208b40-0133-4281-a205-c55b250eedaf"
      },
      "outputs": [
        {
          "output_type": "display_data",
          "data": {
            "text/plain": [
              "<IPython.core.display.HTML object>"
            ],
            "text/html": [
              "\n",
              "     <input type=\"file\" id=\"files-6a50c7ec-0586-4047-b07c-fc767ad628f7\" name=\"files[]\" multiple disabled\n",
              "        style=\"border:none\" />\n",
              "     <output id=\"result-6a50c7ec-0586-4047-b07c-fc767ad628f7\">\n",
              "      Upload widget is only available when the cell has been executed in the\n",
              "      current browser session. Please rerun this cell to enable.\n",
              "      </output>\n",
              "      <script>// Copyright 2017 Google LLC\n",
              "//\n",
              "// Licensed under the Apache License, Version 2.0 (the \"License\");\n",
              "// you may not use this file except in compliance with the License.\n",
              "// You may obtain a copy of the License at\n",
              "//\n",
              "//      http://www.apache.org/licenses/LICENSE-2.0\n",
              "//\n",
              "// Unless required by applicable law or agreed to in writing, software\n",
              "// distributed under the License is distributed on an \"AS IS\" BASIS,\n",
              "// WITHOUT WARRANTIES OR CONDITIONS OF ANY KIND, either express or implied.\n",
              "// See the License for the specific language governing permissions and\n",
              "// limitations under the License.\n",
              "\n",
              "/**\n",
              " * @fileoverview Helpers for google.colab Python module.\n",
              " */\n",
              "(function(scope) {\n",
              "function span(text, styleAttributes = {}) {\n",
              "  const element = document.createElement('span');\n",
              "  element.textContent = text;\n",
              "  for (const key of Object.keys(styleAttributes)) {\n",
              "    element.style[key] = styleAttributes[key];\n",
              "  }\n",
              "  return element;\n",
              "}\n",
              "\n",
              "// Max number of bytes which will be uploaded at a time.\n",
              "const MAX_PAYLOAD_SIZE = 100 * 1024;\n",
              "\n",
              "function _uploadFiles(inputId, outputId) {\n",
              "  const steps = uploadFilesStep(inputId, outputId);\n",
              "  const outputElement = document.getElementById(outputId);\n",
              "  // Cache steps on the outputElement to make it available for the next call\n",
              "  // to uploadFilesContinue from Python.\n",
              "  outputElement.steps = steps;\n",
              "\n",
              "  return _uploadFilesContinue(outputId);\n",
              "}\n",
              "\n",
              "// This is roughly an async generator (not supported in the browser yet),\n",
              "// where there are multiple asynchronous steps and the Python side is going\n",
              "// to poll for completion of each step.\n",
              "// This uses a Promise to block the python side on completion of each step,\n",
              "// then passes the result of the previous step as the input to the next step.\n",
              "function _uploadFilesContinue(outputId) {\n",
              "  const outputElement = document.getElementById(outputId);\n",
              "  const steps = outputElement.steps;\n",
              "\n",
              "  const next = steps.next(outputElement.lastPromiseValue);\n",
              "  return Promise.resolve(next.value.promise).then((value) => {\n",
              "    // Cache the last promise value to make it available to the next\n",
              "    // step of the generator.\n",
              "    outputElement.lastPromiseValue = value;\n",
              "    return next.value.response;\n",
              "  });\n",
              "}\n",
              "\n",
              "/**\n",
              " * Generator function which is called between each async step of the upload\n",
              " * process.\n",
              " * @param {string} inputId Element ID of the input file picker element.\n",
              " * @param {string} outputId Element ID of the output display.\n",
              " * @return {!Iterable<!Object>} Iterable of next steps.\n",
              " */\n",
              "function* uploadFilesStep(inputId, outputId) {\n",
              "  const inputElement = document.getElementById(inputId);\n",
              "  inputElement.disabled = false;\n",
              "\n",
              "  const outputElement = document.getElementById(outputId);\n",
              "  outputElement.innerHTML = '';\n",
              "\n",
              "  const pickedPromise = new Promise((resolve) => {\n",
              "    inputElement.addEventListener('change', (e) => {\n",
              "      resolve(e.target.files);\n",
              "    });\n",
              "  });\n",
              "\n",
              "  const cancel = document.createElement('button');\n",
              "  inputElement.parentElement.appendChild(cancel);\n",
              "  cancel.textContent = 'Cancel upload';\n",
              "  const cancelPromise = new Promise((resolve) => {\n",
              "    cancel.onclick = () => {\n",
              "      resolve(null);\n",
              "    };\n",
              "  });\n",
              "\n",
              "  // Wait for the user to pick the files.\n",
              "  const files = yield {\n",
              "    promise: Promise.race([pickedPromise, cancelPromise]),\n",
              "    response: {\n",
              "      action: 'starting',\n",
              "    }\n",
              "  };\n",
              "\n",
              "  cancel.remove();\n",
              "\n",
              "  // Disable the input element since further picks are not allowed.\n",
              "  inputElement.disabled = true;\n",
              "\n",
              "  if (!files) {\n",
              "    return {\n",
              "      response: {\n",
              "        action: 'complete',\n",
              "      }\n",
              "    };\n",
              "  }\n",
              "\n",
              "  for (const file of files) {\n",
              "    const li = document.createElement('li');\n",
              "    li.append(span(file.name, {fontWeight: 'bold'}));\n",
              "    li.append(span(\n",
              "        `(${file.type || 'n/a'}) - ${file.size} bytes, ` +\n",
              "        `last modified: ${\n",
              "            file.lastModifiedDate ? file.lastModifiedDate.toLocaleDateString() :\n",
              "                                    'n/a'} - `));\n",
              "    const percent = span('0% done');\n",
              "    li.appendChild(percent);\n",
              "\n",
              "    outputElement.appendChild(li);\n",
              "\n",
              "    const fileDataPromise = new Promise((resolve) => {\n",
              "      const reader = new FileReader();\n",
              "      reader.onload = (e) => {\n",
              "        resolve(e.target.result);\n",
              "      };\n",
              "      reader.readAsArrayBuffer(file);\n",
              "    });\n",
              "    // Wait for the data to be ready.\n",
              "    let fileData = yield {\n",
              "      promise: fileDataPromise,\n",
              "      response: {\n",
              "        action: 'continue',\n",
              "      }\n",
              "    };\n",
              "\n",
              "    // Use a chunked sending to avoid message size limits. See b/62115660.\n",
              "    let position = 0;\n",
              "    do {\n",
              "      const length = Math.min(fileData.byteLength - position, MAX_PAYLOAD_SIZE);\n",
              "      const chunk = new Uint8Array(fileData, position, length);\n",
              "      position += length;\n",
              "\n",
              "      const base64 = btoa(String.fromCharCode.apply(null, chunk));\n",
              "      yield {\n",
              "        response: {\n",
              "          action: 'append',\n",
              "          file: file.name,\n",
              "          data: base64,\n",
              "        },\n",
              "      };\n",
              "\n",
              "      let percentDone = fileData.byteLength === 0 ?\n",
              "          100 :\n",
              "          Math.round((position / fileData.byteLength) * 100);\n",
              "      percent.textContent = `${percentDone}% done`;\n",
              "\n",
              "    } while (position < fileData.byteLength);\n",
              "  }\n",
              "\n",
              "  // All done.\n",
              "  yield {\n",
              "    response: {\n",
              "      action: 'complete',\n",
              "    }\n",
              "  };\n",
              "}\n",
              "\n",
              "scope.google = scope.google || {};\n",
              "scope.google.colab = scope.google.colab || {};\n",
              "scope.google.colab._files = {\n",
              "  _uploadFiles,\n",
              "  _uploadFilesContinue,\n",
              "};\n",
              "})(self);\n",
              "</script> "
            ]
          },
          "metadata": {}
        },
        {
          "output_type": "stream",
          "name": "stdout",
          "text": [
            "Saving kaggle.json to kaggle.json\n"
          ]
        },
        {
          "output_type": "execute_result",
          "data": {
            "text/plain": [
              "{'kaggle.json': b'{\"username\":\"wishby\",\"key\":\"4c3b2e9000076e4fa9cdff04466c9fbf\"}'}"
            ]
          },
          "metadata": {},
          "execution_count": 14
        }
      ],
      "source": [
        "from google.colab import files\n",
        "files.upload()"
      ]
    },
    {
      "cell_type": "code",
      "execution_count": 15,
      "metadata": {
        "id": "eD3_R7SlcmNe"
      },
      "outputs": [],
      "source": [
        "!mkdir ~/.kaggle\n",
        "!cp kaggle.json ~/.kaggle"
      ]
    },
    {
      "cell_type": "code",
      "execution_count": 16,
      "metadata": {
        "id": "v3zv-v4ocwBS"
      },
      "outputs": [],
      "source": [
        "!chmod 600 ~/.kaggle/kaggle.json"
      ]
    },
    {
      "cell_type": "code",
      "execution_count": 17,
      "metadata": {
        "id": "EpUZI81Kc0nk",
        "colab": {
          "base_uri": "https://localhost:8080/"
        },
        "outputId": "85c04607-444e-4cd6-d5d5-0a7e65ae24a9"
      },
      "outputs": [
        {
          "output_type": "stream",
          "name": "stdout",
          "text": [
            "Downloading hse19-gbm.zip to /content\n",
            " 76% 28.0M/36.6M [00:00<00:00, 81.0MB/s]\n",
            "100% 36.6M/36.6M [00:00<00:00, 86.4MB/s]\n"
          ]
        }
      ],
      "source": [
        "!kaggle competitions download -c hse19-gbm"
      ]
    },
    {
      "cell_type": "code",
      "execution_count": 18,
      "metadata": {
        "id": "rRJKhKfWc31s",
        "colab": {
          "base_uri": "https://localhost:8080/"
        },
        "outputId": "20b764a9-8dfa-4386-ca56-a849a1136f5c"
      },
      "outputs": [
        {
          "output_type": "stream",
          "name": "stdout",
          "text": [
            "Archive:  hse19-gbm.zip\n",
            "  inflating: hse19-gbm/application_test.csv  \n",
            "  inflating: hse19-gbm/application_train.csv  \n"
          ]
        }
      ],
      "source": [
        "!unzip hse19-gbm.zip -d hse19-gbm"
      ]
    },
    {
      "cell_type": "code",
      "execution_count": 19,
      "metadata": {
        "id": "3WCnZ2ordk3q"
      },
      "outputs": [],
      "source": [
        "data_train = pd.read_csv('hse19-gbm/application_train.csv', index_col=0)"
      ]
    },
    {
      "cell_type": "code",
      "execution_count": 20,
      "metadata": {
        "id": "NuYXq4nqeAq2",
        "colab": {
          "base_uri": "https://localhost:8080/"
        },
        "outputId": "1288b23d-6974-48a8-b795-dc6f31ad3190"
      },
      "outputs": [
        {
          "output_type": "stream",
          "name": "stdout",
          "text": [
            "Index(['TARGET', 'NAME_CONTRACT_TYPE', 'CODE_GENDER', 'FLAG_OWN_CAR',\n",
            "       'FLAG_OWN_REALTY', 'CNT_CHILDREN', 'AMT_INCOME_TOTAL', 'AMT_CREDIT',\n",
            "       'AMT_ANNUITY', 'AMT_GOODS_PRICE',\n",
            "       ...\n",
            "       'FLAG_DOCUMENT_18', 'FLAG_DOCUMENT_19', 'FLAG_DOCUMENT_20',\n",
            "       'FLAG_DOCUMENT_21', 'AMT_REQ_CREDIT_BUREAU_HOUR',\n",
            "       'AMT_REQ_CREDIT_BUREAU_DAY', 'AMT_REQ_CREDIT_BUREAU_WEEK',\n",
            "       'AMT_REQ_CREDIT_BUREAU_MON', 'AMT_REQ_CREDIT_BUREAU_QRT',\n",
            "       'AMT_REQ_CREDIT_BUREAU_YEAR'],\n",
            "      dtype='object', length=121)\n"
          ]
        }
      ],
      "source": [
        "print(data_train.columns)"
      ]
    },
    {
      "cell_type": "code",
      "execution_count": 21,
      "metadata": {
        "id": "yI8gJ9qsehmu"
      },
      "outputs": [],
      "source": [
        "y = data_train['TARGET']\n",
        "X = data_train.drop('TARGET', axis=1)"
      ]
    },
    {
      "cell_type": "markdown",
      "metadata": {
        "id": "OZua41-tjlmp"
      },
      "source": [
        "Таргет является бинарным $\\Rightarrow$ у нас задача бинарной классификации. Попробуем закодировать категориальные признаки через target-encoder. Также воспользуемся вычислением t-статистики. Числовые признаки будем кодировать через min-max преобразование. В конце отберём 100 самых полезных признаков из 120"
      ]
    },
    {
      "cell_type": "code",
      "execution_count": 22,
      "metadata": {
        "id": "GIUSoGWCm5hA",
        "colab": {
          "base_uri": "https://localhost:8080/"
        },
        "outputId": "3b4b5b42-fdad-4eec-decd-66205e6b7eec"
      },
      "outputs": [
        {
          "output_type": "stream",
          "name": "stdout",
          "text": [
            "Collecting category_encoders\n",
            "  Downloading category_encoders-2.6.3-py2.py3-none-any.whl (81 kB)\n",
            "\u001b[2K     \u001b[90m━━━━━━━━━━━━━━━━━━━━━━━━━━━━━━━━━━━━━━━━\u001b[0m \u001b[32m81.9/81.9 kB\u001b[0m \u001b[31m1.1 MB/s\u001b[0m eta \u001b[36m0:00:00\u001b[0m\n",
            "\u001b[?25hRequirement already satisfied: numpy>=1.14.0 in /usr/local/lib/python3.10/dist-packages (from category_encoders) (1.23.5)\n",
            "Requirement already satisfied: scikit-learn>=0.20.0 in /usr/local/lib/python3.10/dist-packages (from category_encoders) (1.2.2)\n",
            "Requirement already satisfied: scipy>=1.0.0 in /usr/local/lib/python3.10/dist-packages (from category_encoders) (1.11.4)\n",
            "Requirement already satisfied: statsmodels>=0.9.0 in /usr/local/lib/python3.10/dist-packages (from category_encoders) (0.14.0)\n",
            "Requirement already satisfied: pandas>=1.0.5 in /usr/local/lib/python3.10/dist-packages (from category_encoders) (1.5.3)\n",
            "Requirement already satisfied: patsy>=0.5.1 in /usr/local/lib/python3.10/dist-packages (from category_encoders) (0.5.3)\n",
            "Requirement already satisfied: python-dateutil>=2.8.1 in /usr/local/lib/python3.10/dist-packages (from pandas>=1.0.5->category_encoders) (2.8.2)\n",
            "Requirement already satisfied: pytz>=2020.1 in /usr/local/lib/python3.10/dist-packages (from pandas>=1.0.5->category_encoders) (2023.3.post1)\n",
            "Requirement already satisfied: six in /usr/local/lib/python3.10/dist-packages (from patsy>=0.5.1->category_encoders) (1.16.0)\n",
            "Requirement already satisfied: joblib>=1.1.1 in /usr/local/lib/python3.10/dist-packages (from scikit-learn>=0.20.0->category_encoders) (1.3.2)\n",
            "Requirement already satisfied: threadpoolctl>=2.0.0 in /usr/local/lib/python3.10/dist-packages (from scikit-learn>=0.20.0->category_encoders) (3.2.0)\n",
            "Requirement already satisfied: packaging>=21.3 in /usr/local/lib/python3.10/dist-packages (from statsmodels>=0.9.0->category_encoders) (23.2)\n",
            "Installing collected packages: category_encoders\n",
            "Successfully installed category_encoders-2.6.3\n"
          ]
        }
      ],
      "source": [
        "!pip install category_encoders"
      ]
    },
    {
      "cell_type": "code",
      "execution_count": 23,
      "metadata": {
        "id": "ItgAvnK7jCdF",
        "colab": {
          "base_uri": "https://localhost:8080/"
        },
        "outputId": "cd5d3f7e-0e72-497a-c6d7-42e515dd62c8"
      },
      "outputs": [
        {
          "output_type": "stream",
          "name": "stdout",
          "text": [
            "X shape: (215257, 120)\n",
            "X_categorical shape: (215257, 55)\n",
            "X_numerical shape: (215257, 65)\n"
          ]
        }
      ],
      "source": [
        "from category_encoders import TargetEncoder\n",
        "from sklearn.preprocessing import MinMaxScaler\n",
        "\n",
        "cat_names = data_train.drop('TARGET', axis=1).dtypes[data_train.dtypes != 'float64'].index.to_numpy()\n",
        "num_names = data_train.drop('TARGET', axis=1).dtypes[data_train.dtypes == 'float64'].index.to_numpy()\n",
        "\n",
        "target_enc = TargetEncoder()\n",
        "min_max_enc = MinMaxScaler()\n",
        "\n",
        "X_cat_encoded = target_enc.fit_transform(data_train[cat_names], y)\n",
        "X_num_encoded = min_max_enc.fit_transform(data_train[num_names])\n",
        "\n",
        "print('X shape:', X.shape)\n",
        "print('X_categorical shape:', X_cat_encoded.shape)\n",
        "print('X_numerical shape:', X_num_encoded.shape)\n",
        "\n",
        "data_train_copy = data_train.copy()\n",
        "data_train_copy[cat_names] = X_cat_encoded\n",
        "data_train_copy[num_names] = X_num_encoded"
      ]
    },
    {
      "cell_type": "code",
      "execution_count": 24,
      "metadata": {
        "id": "ixxzOaQ6pnOr"
      },
      "outputs": [],
      "source": [
        "def t_statistics(feature, target):\n",
        "    feature_pos = feature[target == 1]\n",
        "    feature_neg = feature[target == 0]\n",
        "\n",
        "    mean_abs_diff = np.abs(np.mean(feature_pos) - np.mean(feature_neg))\n",
        "    var_pos = np.std(feature_pos) ** 2\n",
        "    var_neg = np.std(feature_neg) ** 2\n",
        "    n_pos = feature_pos.shape[0]\n",
        "    n_neg = feature_neg.shape[0]\n",
        "\n",
        "    return mean_abs_diff / np.sqrt((n_pos * var_pos + n_neg * var_neg) / feature.shape[0])"
      ]
    },
    {
      "cell_type": "code",
      "execution_count": 25,
      "metadata": {
        "id": "GGRNqx83ppYS"
      },
      "outputs": [],
      "source": [
        "from time import time"
      ]
    },
    {
      "cell_type": "code",
      "execution_count": 26,
      "metadata": {
        "id": "YlYue8GhpumP",
        "colab": {
          "base_uri": "https://localhost:8080/"
        },
        "outputId": "c7ab5862-a004-475b-b52e-9e10cdeb0451"
      },
      "outputs": [
        {
          "output_type": "stream",
          "name": "stdout",
          "text": [
            "Время отбора признаков: 0.3982503414154053\n",
            "Число полученных признаков: (215257, 100)\n"
          ]
        }
      ],
      "source": [
        "X_copy = data_train_copy.drop('TARGET', axis=1).values\n",
        "\n",
        "time_start = time()\n",
        "get_t_stats = np.array([t_statistics(col, y) for col in X_copy.T])\n",
        "inds = np.argsort(get_t_stats)\n",
        "inds_del = inds[:20]\n",
        "\n",
        "X_copy = np.delete(X_copy, inds_del, axis=1)\n",
        "fit_time = time() - time_start\n",
        "\n",
        "print(\"Время отбора признаков:\", fit_time)\n",
        "print('Число полученных признаков:', X_copy.shape)"
      ]
    },
    {
      "cell_type": "code",
      "execution_count": 27,
      "metadata": {
        "id": "8CFtdtdkq-ko",
        "colab": {
          "base_uri": "https://localhost:8080/"
        },
        "outputId": "f7d69e2a-1f4d-4806-fdb9-86dfb20b0885"
      },
      "outputs": [
        {
          "output_type": "stream",
          "name": "stdout",
          "text": [
            "Удалённые признаки:\n",
            "\n",
            "FLAG_DOCUMENT_19\n",
            "FLAG_DOCUMENT_20\n",
            "FLAG_EMAIL\n",
            "FLAG_DOCUMENT_12\n",
            "FLAG_MOBIL\n",
            "FLAG_CONT_MOBILE\n",
            "FLAG_DOCUMENT_10\n",
            "FLAG_DOCUMENT_7\n",
            "FLAG_DOCUMENT_5\n",
            "FLAG_DOCUMENT_21\n",
            "FLAG_DOCUMENT_4\n",
            "LIVE_REGION_NOT_WORK_REGION\n",
            "FLAG_DOCUMENT_11\n",
            "FLAG_DOCUMENT_17\n",
            "FLAG_DOCUMENT_9\n",
            "REG_REGION_NOT_LIVE_REGION\n",
            "REG_REGION_NOT_WORK_REGION\n",
            "FLAG_OWN_REALTY\n",
            "FLAG_DOCUMENT_15\n",
            "WEEKDAY_APPR_PROCESS_START\n"
          ]
        }
      ],
      "source": [
        "print('Удалённые признаки:\\n')\n",
        "print(*X.columns[inds_del], sep='\\n')"
      ]
    },
    {
      "cell_type": "code",
      "execution_count": 28,
      "metadata": {
        "id": "AwL1wQXN8RPm",
        "colab": {
          "base_uri": "https://localhost:8080/"
        },
        "outputId": "6a14bed6-20b6-439c-8500-57c4417495e3"
      },
      "outputs": [
        {
          "output_type": "stream",
          "name": "stdout",
          "text": [
            "(215257, 100)\n"
          ]
        }
      ],
      "source": [
        "X = X.drop(X.columns[inds_del].to_numpy(), axis=1)\n",
        "print(X.shape)"
      ]
    },
    {
      "cell_type": "markdown",
      "metadata": {
        "id": "jgO9qNuLN0WL"
      },
      "source": [
        "Заполним NaN-значения, используя SimpleImputer, который заменяет все пропущенные значения на средние по признаку"
      ]
    },
    {
      "cell_type": "code",
      "execution_count": 29,
      "metadata": {
        "id": "7BJDt3KkGcND"
      },
      "outputs": [],
      "source": [
        "from sklearn.impute import SimpleImputer\n",
        "\n",
        "new_cat_names = X.dtypes[X.dtypes != 'float64'].index.to_numpy()\n",
        "new_num_names = X.dtypes[X.dtypes == 'float64'].index.to_numpy()\n",
        "\n",
        "# Определяем модель для заполнения NaN\n",
        "imputer_nums = SimpleImputer(missing_values=np.nan, strategy='mean')\n",
        "imputer_cats = SimpleImputer(missing_values=np.nan, fill_value='-1', strategy='constant')\n",
        "\n",
        "# Заполняем NaN\n",
        "data_cat = imputer_cats.fit_transform(X[new_cat_names])\n",
        "data_num = imputer_nums.fit_transform(X[new_num_names])\n",
        "X[new_cat_names] = data_cat\n",
        "X[new_num_names] = data_num"
      ]
    },
    {
      "cell_type": "code",
      "execution_count": 30,
      "metadata": {
        "id": "kM1c00xcG9Uy",
        "colab": {
          "base_uri": "https://localhost:8080/"
        },
        "outputId": "ae171bfd-c9bc-49f8-c9e7-a23f51b8f11b"
      },
      "outputs": [
        {
          "output_type": "stream",
          "name": "stdout",
          "text": [
            "(215257, 100)\n"
          ]
        }
      ],
      "source": [
        "print(X.shape)"
      ]
    },
    {
      "cell_type": "code",
      "execution_count": 31,
      "metadata": {
        "id": "b_qX1RW6OSUO"
      },
      "outputs": [],
      "source": [
        "from sklearn.model_selection import train_test_split"
      ]
    },
    {
      "cell_type": "code",
      "execution_count": 32,
      "metadata": {
        "id": "aeSWWu1UaKRt"
      },
      "outputs": [],
      "source": [
        "X_train, X_test, y_train, y_test = train_test_split(X, y, test_size=0.3, random_state=42)"
      ]
    },
    {
      "cell_type": "markdown",
      "metadata": {
        "id": "_9gZnYJPaKRt"
      },
      "source": [
        "**Задание 5 (1 балл)**"
      ]
    },
    {
      "cell_type": "markdown",
      "metadata": {
        "id": "Bfec2jHJaKRt"
      },
      "source": [
        "**(0.4 баллa)** Обучите реализации градиентного бустинга LightGBM и Catboost на вещественных признаках без подбора параметров.\n",
        "\n",
        "**(0.6 баллa) (?) Получилась ли заметная разница в качестве? Как вы думаете, почему?**\n",
        "\n",
        "**Замечание:**\n",
        "* В этом и последующих экспериментах необходимо измерять время обучения моделей."
      ]
    },
    {
      "cell_type": "code",
      "execution_count": 33,
      "metadata": {
        "id": "0Ehi1uR7VMXx"
      },
      "outputs": [],
      "source": [
        "### your code here ╰( ͡° ͜ʖ ͡° )つ──☆*:・ﾟ\n",
        "\n",
        "num_inds = np.array([X.columns.get_loc(name) for name in new_num_names])\n",
        "cat_inds = np.array([X.columns.get_loc(name) for name in new_cat_names])"
      ]
    },
    {
      "cell_type": "code",
      "execution_count": 34,
      "metadata": {
        "id": "JFrdjrwh-fCe"
      },
      "outputs": [],
      "source": [
        "X_train = X_train.to_numpy()\n",
        "X_test = X_test.to_numpy()"
      ]
    },
    {
      "cell_type": "code",
      "execution_count": 35,
      "metadata": {
        "id": "PgiO6t8UIj-K"
      },
      "outputs": [],
      "source": [
        "y_train = y_train.to_numpy()\n",
        "y_test = y_test.to_numpy()"
      ]
    },
    {
      "cell_type": "code",
      "execution_count": 36,
      "metadata": {
        "id": "qh6XYJUKTD1V",
        "colab": {
          "base_uri": "https://localhost:8080/"
        },
        "outputId": "de39e3be-d161-4d2a-b9fe-ac305a57c42f"
      },
      "outputs": [
        {
          "output_type": "stream",
          "name": "stdout",
          "text": [
            "Collecting catboost\n",
            "  Downloading catboost-1.2.2-cp310-cp310-manylinux2014_x86_64.whl (98.7 MB)\n",
            "\u001b[2K     \u001b[90m━━━━━━━━━━━━━━━━━━━━━━━━━━━━━━━━━━━━━━━━\u001b[0m \u001b[32m98.7/98.7 MB\u001b[0m \u001b[31m7.2 MB/s\u001b[0m eta \u001b[36m0:00:00\u001b[0m\n",
            "\u001b[?25hRequirement already satisfied: graphviz in /usr/local/lib/python3.10/dist-packages (from catboost) (0.20.1)\n",
            "Requirement already satisfied: matplotlib in /usr/local/lib/python3.10/dist-packages (from catboost) (3.7.1)\n",
            "Requirement already satisfied: numpy>=1.16.0 in /usr/local/lib/python3.10/dist-packages (from catboost) (1.23.5)\n",
            "Requirement already satisfied: pandas>=0.24 in /usr/local/lib/python3.10/dist-packages (from catboost) (1.5.3)\n",
            "Requirement already satisfied: scipy in /usr/local/lib/python3.10/dist-packages (from catboost) (1.11.4)\n",
            "Requirement already satisfied: plotly in /usr/local/lib/python3.10/dist-packages (from catboost) (5.15.0)\n",
            "Requirement already satisfied: six in /usr/local/lib/python3.10/dist-packages (from catboost) (1.16.0)\n",
            "Requirement already satisfied: python-dateutil>=2.8.1 in /usr/local/lib/python3.10/dist-packages (from pandas>=0.24->catboost) (2.8.2)\n",
            "Requirement already satisfied: pytz>=2020.1 in /usr/local/lib/python3.10/dist-packages (from pandas>=0.24->catboost) (2023.3.post1)\n",
            "Requirement already satisfied: contourpy>=1.0.1 in /usr/local/lib/python3.10/dist-packages (from matplotlib->catboost) (1.2.0)\n",
            "Requirement already satisfied: cycler>=0.10 in /usr/local/lib/python3.10/dist-packages (from matplotlib->catboost) (0.12.1)\n",
            "Requirement already satisfied: fonttools>=4.22.0 in /usr/local/lib/python3.10/dist-packages (from matplotlib->catboost) (4.45.1)\n",
            "Requirement already satisfied: kiwisolver>=1.0.1 in /usr/local/lib/python3.10/dist-packages (from matplotlib->catboost) (1.4.5)\n",
            "Requirement already satisfied: packaging>=20.0 in /usr/local/lib/python3.10/dist-packages (from matplotlib->catboost) (23.2)\n",
            "Requirement already satisfied: pillow>=6.2.0 in /usr/local/lib/python3.10/dist-packages (from matplotlib->catboost) (9.4.0)\n",
            "Requirement already satisfied: pyparsing>=2.3.1 in /usr/local/lib/python3.10/dist-packages (from matplotlib->catboost) (3.1.1)\n",
            "Requirement already satisfied: tenacity>=6.2.0 in /usr/local/lib/python3.10/dist-packages (from plotly->catboost) (8.2.3)\n",
            "Installing collected packages: catboost\n",
            "Successfully installed catboost-1.2.2\n"
          ]
        }
      ],
      "source": [
        "!pip install catboost"
      ]
    },
    {
      "cell_type": "code",
      "execution_count": 37,
      "metadata": {
        "id": "J4_ScBMES7jp"
      },
      "outputs": [],
      "source": [
        "from catboost import CatBoostClassifier\n",
        "from lightgbm import LGBMClassifier\n",
        "\n",
        "cat_clf = CatBoostClassifier(logging_level='Silent')\n",
        "lgbm_clf = LGBMClassifier(verbose=-1)"
      ]
    },
    {
      "cell_type": "code",
      "execution_count": 38,
      "metadata": {
        "id": "tLAIoUWiTjLm",
        "colab": {
          "base_uri": "https://localhost:8080/"
        },
        "outputId": "423404f0-9d4e-42cf-e5e4-a56059761c1f"
      },
      "outputs": [
        {
          "output_type": "stream",
          "name": "stdout",
          "text": [
            "Время обучения CatBoost: 95.63276934623718\n"
          ]
        }
      ],
      "source": [
        "start_time = time()\n",
        "catboost_trained = cat_clf.fit(X_train[:, num_inds], y_train)\n",
        "catboost_fit_time = time() - start_time\n",
        "print('Время обучения CatBoost:', catboost_fit_time)"
      ]
    },
    {
      "cell_type": "code",
      "execution_count": 39,
      "metadata": {
        "id": "eTQXwj1oUI4R",
        "colab": {
          "base_uri": "https://localhost:8080/"
        },
        "outputId": "715cda22-63d9-4199-f87f-153ccd9349b7"
      },
      "outputs": [
        {
          "output_type": "stream",
          "name": "stdout",
          "text": [
            "Время обучения LightGBM: 7.239247798919678\n"
          ]
        }
      ],
      "source": [
        "start_time = time()\n",
        "lgbm_trained = lgbm_clf.fit(X_train[:, num_inds], y_train)\n",
        "lgbm_fit_time = time() - start_time\n",
        "print('Время обучения LightGBM:', lgbm_fit_time)"
      ]
    },
    {
      "cell_type": "code",
      "execution_count": 40,
      "metadata": {
        "id": "IJUOgqloWPZV",
        "colab": {
          "base_uri": "https://localhost:8080/",
          "height": 507
        },
        "outputId": "8258544e-9191-4f45-892c-6bb3f0b30344"
      },
      "outputs": [
        {
          "output_type": "stream",
          "name": "stdout",
          "text": [
            "CatBoost ROC-AUC: 0.7382473731083037\n",
            "\n"
          ]
        },
        {
          "output_type": "display_data",
          "data": {
            "text/plain": [
              "<Figure size 640x480 with 1 Axes>"
            ],
            "image/png": "[encoded data removed]"
          },
          "metadata": {}
        }
      ],
      "source": [
        "from sklearn.metrics import RocCurveDisplay\n",
        "\n",
        "display_cat_roc = RocCurveDisplay.from_estimator(catboost_trained, X_test[:, num_inds], y_test)\n",
        "print(\"CatBoost ROC-AUC:\", display_cat_roc.roc_auc, end='\\n\\n')\n",
        "plt.title('ROC-кривая для CatBoost')\n",
        "plt.grid(alpha=0.8, linestyle=':')\n",
        "plt.show()"
      ]
    },
    {
      "cell_type": "code",
      "execution_count": 41,
      "metadata": {
        "id": "vOsk28fuXCvR",
        "colab": {
          "base_uri": "https://localhost:8080/",
          "height": 507
        },
        "outputId": "3a9821de-d166-4226-fe99-92421292b6d7"
      },
      "outputs": [
        {
          "output_type": "stream",
          "name": "stdout",
          "text": [
            "LightGBM ROC-AUC: 0.7390060584561654\n",
            "\n"
          ]
        },
        {
          "output_type": "display_data",
          "data": {
            "text/plain": [
              "<Figure size 640x480 with 1 Axes>"
            ],
            "image/png": "[encoded data removed]"
          },
          "metadata": {}
        }
      ],
      "source": [
        "display_lgbm_roc = RocCurveDisplay.from_estimator(lgbm_trained, X_test[:, num_inds], y_test)\n",
        "print(\"LightGBM ROC-AUC:\", display_lgbm_roc.roc_auc, end='\\n\\n')\n",
        "plt.title('ROC-кривая для LightGBM')\n",
        "plt.grid(alpha=0.8, linestyle=':')\n",
        "plt.show()"
      ]
    },
    {
      "cell_type": "markdown",
      "metadata": {
        "id": "2WDkjA7YaKRt"
      },
      "source": [
        "**Your answer here:**\n",
        "Заметной разницы в качестве не наблюдается. LightGBM отработал значительно быстрее, чем CatBoost. Вероятно, это связано с тем, что CatBoost строит сбалансированное дерево, что гораздо дольше в сравнении с LightGBM. Качество у LightGBM незначительно выше, однако эта модель гораздо быстрее, чем CatBoost.\n",
        "\n",
        "Мы не видим заметной разницы в качестве, вероятно, потому что мы имеем две реализации одного и того же алгоритма градиентного бустинга, при котором гистограммная аппроксимация, использованная в LightGBM, не сильно портит качество. Обычно, качество должно быть немного хуже у LightGBM (так как в LightGBM используется гистограммная аппроксимация), но, видимо, использование только числовых признаков привело к обратной ситуации."
      ]
    },
    {
      "cell_type": "markdown",
      "metadata": {
        "id": "zECWy82saKRt"
      },
      "source": [
        "__Задание 6. (2 балла)__\n",
        "\n",
        "**(1. балл)** Подберите оптимальные с точки зрения метрики качества параметры алгоритмов, изменяя:\n",
        "\n",
        "* глубину деревьев;\n",
        "* количество деревьев;\n",
        "* темп обучения;\n",
        "\n",
        "Масштаб значений предлагается посмотреть [тут](https://github.com/esokolov/ml-course-hse/blob/master/2019-fall/seminars/sem10-gbm.ipynb).\n",
        "\n",
        "**(1 балл) (?)** Проанализируйте соотношения получившихся оптимальных глубины и количества деревьев в зависимости от алгоритма.**\n",
        "\n",
        "**Если на перебор гиперпараметров уходит много времени, то переберите значениях каких-нибудь 1-2 гиперпараметров, а не всех предложенных 3**"
      ]
    },
    {
      "cell_type": "code",
      "execution_count": 42,
      "metadata": {
        "id": "R4EM2kpPaKRt"
      },
      "outputs": [],
      "source": [
        "### your code here ╰( ͡° ͜ʖ ͡° )つ──☆*:・ﾟ\n",
        "from sklearn.model_selection import GridSearchCV\n",
        "\n",
        "def get_best_model(model, params, X, y):\n",
        "    grid = GridSearchCV(model, params, scoring='roc_auc', cv=3)\n",
        "    grid.fit(X, y)\n",
        "\n",
        "    return grid.best_params_, grid.best_score_, grid.best_estimator_"
      ]
    },
    {
      "cell_type": "markdown",
      "metadata": {
        "id": "kwvQvq7XQ8pe"
      },
      "source": [
        "Масштаб значений для $max\\_depth$ предлагается брать $[3; 7]$\n",
        "\n",
        "Число деревьев будем брать из списка $[1, 5, 10, 100, 200, 300, 400, 500, 600, 700]$\n",
        "\n",
        "Темп обучения будем брать из логарифмической сетки $np.logspace(-3, \\: -1, \\: 3)$"
      ]
    },
    {
      "cell_type": "code",
      "execution_count": 43,
      "metadata": {
        "id": "qSfiv2uGLum8"
      },
      "outputs": [],
      "source": [
        "# LightGBM\n",
        "\n",
        "start_time = time()\n",
        "lgbm_params, lgbm_score, lgbm = get_best_model(LGBMClassifier(force_row_wise=True), {'max_depth': [3, 4, 5], 'n_estimators': [10, 100, 300], 'verbose': [-1]}, X_train[:, num_inds], y_train)\n",
        "finish_time_lgbm_1 = time() - start_time"
      ]
    },
    {
      "cell_type": "code",
      "execution_count": 44,
      "metadata": {
        "id": "xw2mb_Z3Nl2q",
        "colab": {
          "base_uri": "https://localhost:8080/"
        },
        "outputId": "2fc37e82-96b7-4313-965c-a78b8b8a7dc2"
      },
      "outputs": [
        {
          "output_type": "stream",
          "name": "stdout",
          "text": [
            "Лучшие параметры (LGBM): {'max_depth': 4, 'n_estimators': 100, 'verbose': -1}\n",
            "Достигнутый ROC-AUC (LGBM): 0.7396544611023783\n",
            "Время подбора гиперпараметров (LGBM): 166.9295654296875\n"
          ]
        }
      ],
      "source": [
        "print('Лучшие параметры (LGBM):', lgbm_params)\n",
        "print('Достигнутый ROC-AUC (LGBM):', lgbm_score)\n",
        "print('Время подбора гиперпараметров (LGBM):', finish_time_lgbm_1)"
      ]
    },
    {
      "cell_type": "code",
      "execution_count": 45,
      "metadata": {
        "id": "-7W81soyNAb2"
      },
      "outputs": [],
      "source": [
        "# LightGBM - last hyperparameter\n",
        "start_time = time()\n",
        "best_lgbm_params, best_lgbm_score, best_lgbm = get_best_model(lgbm, {'learning_rate': np.logspace(-3, -1, 3), 'verbose': [-1]}, X_train[:, num_inds], y_train)\n",
        "finish_time_lgbm_2 = time() - start_time"
      ]
    },
    {
      "cell_type": "code",
      "execution_count": 46,
      "metadata": {
        "id": "qA3xGVa7Nknr",
        "colab": {
          "base_uri": "https://localhost:8080/"
        },
        "outputId": "73fc7fef-bdb0-4a7d-a651-b28d59217444"
      },
      "outputs": [
        {
          "output_type": "stream",
          "name": "stdout",
          "text": [
            "Лучшие параметры (LGBM): {'learning_rate': 0.1, 'verbose': -1}\n",
            "Достигнутый ROC-AUC (LGBM): 0.7396544611023783\n",
            "Время подбора гиперпараметров (LGBM): 55.06383919715881\n"
          ]
        }
      ],
      "source": [
        "print('Лучшие параметры (LGBM):', best_lgbm_params)\n",
        "print('Достигнутый ROC-AUC (LGBM):', best_lgbm_score)\n",
        "print('Время подбора гиперпараметров (LGBM):', finish_time_lgbm_2)"
      ]
    },
    {
      "cell_type": "code",
      "execution_count": 47,
      "metadata": {
        "id": "9A2nLvmvNqob"
      },
      "outputs": [],
      "source": [
        "# CatBoost\n",
        "start_time = time()\n",
        "catboost_params, catboost_score, catboost = get_best_model(CatBoostClassifier(logging_level='Silent'), {'max_depth': [3, 4, 5], 'n_estimators': [10, 300, 500]}, X_train[:, num_inds], y_train)\n",
        "finish_time_cb_1 = time() - start_time"
      ]
    },
    {
      "cell_type": "code",
      "execution_count": 48,
      "metadata": {
        "id": "OrKOQboGNzKH",
        "colab": {
          "base_uri": "https://localhost:8080/"
        },
        "outputId": "48013c87-f84c-4f22-d6af-c5d33c2d5b7d"
      },
      "outputs": [
        {
          "output_type": "stream",
          "name": "stdout",
          "text": [
            "Лучшие параметры (CatBoost): {'max_depth': 3, 'n_estimators': 500}\n",
            "Достигнутый ROC-AUC (CatBoost): 0.740746384904186\n",
            "Время подбора гиперпараметров (CatBoost): 370.3656859397888\n"
          ]
        }
      ],
      "source": [
        "print('Лучшие параметры (CatBoost):', catboost_params)\n",
        "print('Достигнутый ROC-AUC (CatBoost):', catboost_score)\n",
        "print('Время подбора гиперпараметров (CatBoost):', finish_time_cb_1)"
      ]
    },
    {
      "cell_type": "code",
      "execution_count": 49,
      "metadata": {
        "id": "2TbHMvQ4OEmj"
      },
      "outputs": [],
      "source": [
        "# CatBoost - last hyperparameter\n",
        "start_time = time()\n",
        "best_catboost_params, best_catboost_score, best_lgbm = get_best_model(catboost, {'learning_rate': np.logspace(-3, -1, 3)}, X_train[:, num_inds], y_train)\n",
        "finish_time_cb_2 = time() - start_time"
      ]
    },
    {
      "cell_type": "code",
      "execution_count": 50,
      "metadata": {
        "id": "TxijHVU3OVFU",
        "colab": {
          "base_uri": "https://localhost:8080/"
        },
        "outputId": "025165ad-9945-428b-d114-36a0a077811b"
      },
      "outputs": [
        {
          "output_type": "stream",
          "name": "stdout",
          "text": [
            "Лучшие параметры (CatBoost): {'learning_rate': 0.1}\n",
            "Достигнутый ROC-AUC (CatBoost): 0.740956376566233\n",
            "Время подбора гиперпараметров (CatBoost): 192.05969858169556\n"
          ]
        }
      ],
      "source": [
        "print('Лучшие параметры (CatBoost):', best_catboost_params)\n",
        "print('Достигнутый ROC-AUC (CatBoost):', best_catboost_score)\n",
        "print('Время подбора гиперпараметров (CatBoost):', finish_time_cb_2)"
      ]
    },
    {
      "cell_type": "markdown",
      "metadata": {
        "id": "by-vykeoaKRu"
      },
      "source": [
        "**Your answer here:**\n",
        "\n",
        "Для LightGBM получили оптимальные параметры:\n",
        "1. Глубина деревьев = 4\n",
        "2. Количество деревьев = 100\n",
        "3. Шаг обучения = 0.1\n",
        "\n",
        "Для CatBoost имеем следующие оптимальные параметры:\n",
        "1. Глубина деревьев = 3\n",
        "2. Количество деревьев = 500\n",
        "3. Шаг обучения = 0.1\n",
        "\n",
        "Видно, что CatBoost получает лучшее качество при большем числе деревьев и их меньшей глубиной, чем LightGBM.\n",
        "\n",
        "Лучшее качество LightGBM = 0.7396544\n",
        "\n",
        "Лучшее качество CatBoost = 0.7409564\n",
        "\n",
        "CatBoost показывает качество лучше, что и должно было получиться."
      ]
    },
    {
      "cell_type": "markdown",
      "metadata": {
        "id": "FU6EbVZgaKRu"
      },
      "source": [
        "**Задание 7 (1.5 баллa)**\n",
        "\n",
        "**(1 балл)** Добавьте категориальные признаки к вещественным следующими способами:\n",
        "\n",
        "* как OHE признаки;\n",
        "* как счетчики со сглаживанием.\n",
        "\n",
        "Можно использовать библиотечные реализации; при подсчете счетчиков нельзя использовать циклы.\n",
        "\n",
        "**(0.5 баллa) (?)** Как меняется время, необходимое для обучения моделей в зависимости от способа кодирования? (Параметры можно не подбирать)."
      ]
    },
    {
      "cell_type": "code",
      "execution_count": 51,
      "metadata": {
        "id": "gERNAzNQaKRu"
      },
      "outputs": [],
      "source": [
        "### your code here ╰( ͡° ͜ʖ ͡° )つ──☆*:・ﾟ\n",
        "from sklearn.preprocessing import OneHotEncoder\n",
        "\n",
        "def target_noise_encoder_mod(x, y, cat_inds):\n",
        "    x_copy = x.copy()\n",
        "\n",
        "    for ind in cat_inds:\n",
        "        uniques = np.unique(x[:, ind])\n",
        "        mean_uniques = dict()\n",
        "        for u in uniques:\n",
        "            u_inds = np.argwhere(x[:, ind] == u).flatten()\n",
        "            y_values = y[u_inds]\n",
        "            mean_target = y_values.cumsum() - y_values\n",
        "            means = mean_target[1:] / np.concatenate((np.array([1]), np.arange(1, mean_target[1:].shape[0])))\n",
        "            mean_target =  np.concatenate((np.array([mean_target[0]]), means))\n",
        "            x_copy[u_inds, ind] = mean_target\n",
        "            mean_uniques[u] = y_values[y_values == 1].shape[0] / y_values.shape[0]\n",
        "            x_copy[u_inds, ind] += np.random.normal(loc=0.0, scale=0.01, size=u_inds.shape[0])\n",
        "    return x_copy"
      ]
    },
    {
      "cell_type": "code",
      "execution_count": 52,
      "metadata": {
        "id": "0cx2Le-oHETe",
        "colab": {
          "base_uri": "https://localhost:8080/"
        },
        "outputId": "3c22231f-61ee-4025-eeb6-6b5b41daa4dc"
      },
      "outputs": [
        {
          "output_type": "stream",
          "name": "stdout",
          "text": [
            "Время кодирования счётчиком со сглаживанием: 254.05393075942993\n"
          ]
        }
      ],
      "source": [
        "start_time = time()\n",
        "X_train_targets = target_noise_encoder_mod(X_train, y_train, cat_inds)\n",
        "finish_time = time() - start_time\n",
        "print('Время кодирования счётчиком со сглаживанием:', finish_time)"
      ]
    },
    {
      "cell_type": "code",
      "execution_count": 53,
      "metadata": {
        "id": "2AWBq6FANi6a",
        "colab": {
          "base_uri": "https://localhost:8080/"
        },
        "outputId": "c5a2306f-dcf2-4261-cc17-d9863104415d"
      },
      "outputs": [
        {
          "output_type": "stream",
          "name": "stdout",
          "text": [
            "Время кодирования через OneHotEncoder: 1.737475872039795\n",
            "Размер полученных данных: (150679, 34420)\n"
          ]
        }
      ],
      "source": [
        "oh_enc = OneHotEncoder(sparse_output=True)\n",
        "start_time = time()\n",
        "X_train_oh_sparse = oh_enc.fit_transform(X_train[:, cat_inds])\n",
        "finish_time = time() - start_time\n",
        "print('Время кодирования через OneHotEncoder:', finish_time)\n",
        "print('Размер полученных данных:', X_train_oh_sparse.shape)"
      ]
    },
    {
      "cell_type": "code",
      "execution_count": 54,
      "metadata": {
        "id": "PhhbvK-GsSEk"
      },
      "outputs": [],
      "source": [
        "from scipy import sparse\n",
        "X_train_ohnum_sparse = sparse.csr_matrix(X_train[:, num_inds].astype(float))\n",
        "X_train_ohnum_sparse = sparse.hstack([X_train_ohnum_sparse, X_train_oh_sparse])\n",
        "del X_train_oh_sparse"
      ]
    },
    {
      "cell_type": "code",
      "source": [
        "X_train_ohnum_sparse.shape"
      ],
      "metadata": {
        "colab": {
          "base_uri": "https://localhost:8080/"
        },
        "id": "5HhN8ANTSwlW",
        "outputId": "0fa17975-d969-4c20-f2b9-03bb12d435ec"
      },
      "execution_count": 55,
      "outputs": [
        {
          "output_type": "execute_result",
          "data": {
            "text/plain": [
              "(150679, 34485)"
            ]
          },
          "metadata": {},
          "execution_count": 55
        }
      ]
    },
    {
      "cell_type": "code",
      "execution_count": 56,
      "metadata": {
        "id": "A16s7qo8OxYG",
        "colab": {
          "base_uri": "https://localhost:8080/"
        },
        "outputId": "64514b53-a377-4ae5-ea75-8c478a62d2fd"
      },
      "outputs": [
        {
          "output_type": "stream",
          "name": "stdout",
          "text": [
            "Время обучения CatBoost (ONE HOT): 66.2345404624939\n"
          ]
        }
      ],
      "source": [
        "# CatBoost One Hot\n",
        "\n",
        "catboost_clf = CatBoostClassifier(max_depth=3, n_estimators=500, learning_rate=0.1, logging_level='Silent')\n",
        "start_time = time()\n",
        "cb_trained = catboost_clf.fit(X_train_ohnum_sparse, y_train)\n",
        "cb_fit_time = time() - start_time\n",
        "print('Время обучения CatBoost (ONE HOT):', cb_fit_time)"
      ]
    },
    {
      "cell_type": "code",
      "execution_count": 58,
      "metadata": {
        "id": "QXkJA5YQiiwQ",
        "colab": {
          "base_uri": "https://localhost:8080/"
        },
        "outputId": "ccff9d29-3a94-4fd4-d1aa-f8bc3c9b3028"
      },
      "outputs": [
        {
          "output_type": "stream",
          "name": "stdout",
          "text": [
            "Время обучения LightGBM (ONE HOT): 50.57942342758179\n"
          ]
        }
      ],
      "source": [
        "# LightGBM One Hot\n",
        "\n",
        "lightgbm_clf = LGBMClassifier(max_depth=4, n_estimators=100, learning_rate=0.1, verbose=-1)\n",
        "start_time = time()\n",
        "lgbm_trained = lightgbm_clf.fit(X_train_ohnum_sparse, y_train)\n",
        "lgbm_fit_time = time() - start_time\n",
        "print('Время обучения LightGBM (ONE HOT):', lgbm_fit_time)"
      ]
    },
    {
      "cell_type": "code",
      "execution_count": 59,
      "metadata": {
        "id": "-PZq3OGNP_lJ",
        "colab": {
          "base_uri": "https://localhost:8080/"
        },
        "outputId": "a71574fc-2f6b-41da-add6-157f820f788e"
      },
      "outputs": [
        {
          "output_type": "stream",
          "name": "stdout",
          "text": [
            "Время обучения CatBoost (Target smoothing): 31.804086446762085\n"
          ]
        }
      ],
      "source": [
        "# CatBoost Target Smoothing\n",
        "\n",
        "catboost_clf = CatBoostClassifier(max_depth=3, n_estimators=500, learning_rate=0.1, logging_level='Silent')\n",
        "start_time = time()\n",
        "cb_trained = catboost_clf.fit(X_train_targets, y_train)\n",
        "cb_fit_time = time() - start_time\n",
        "print('Время обучения CatBoost (Target smoothing):', cb_fit_time)"
      ]
    },
    {
      "cell_type": "code",
      "execution_count": 60,
      "metadata": {
        "id": "tmlm63K6Qsmy",
        "colab": {
          "base_uri": "https://localhost:8080/"
        },
        "outputId": "ef2fcd6c-1088-4d7f-9aaa-c529dc6f4ab5"
      },
      "outputs": [
        {
          "output_type": "stream",
          "name": "stdout",
          "text": [
            "Время обучения LightGBM (Target smoothing): 10.87251877784729\n"
          ]
        }
      ],
      "source": [
        "# LightGBM Target Smoothing\n",
        "\n",
        "lightgbm_clf = LGBMClassifier(max_depth=4, n_estimators=100, learning_rate=0.1, verbose=-1)\n",
        "start_time = time()\n",
        "lgbm_trained = lightgbm_clf.fit(X_train_targets, y_train)\n",
        "lgbm_fit_time = time() - start_time\n",
        "print('Время обучения LightGBM (Target smoothing):', lgbm_fit_time)"
      ]
    },
    {
      "cell_type": "code",
      "source": [
        "oh_enc = OneHotEncoder(sparse_output=True)\n",
        "start_time = time()\n",
        "X_train_oh_sparse = oh_enc.fit_transform(X_train[:, cat_inds])\n",
        "finish_time = time() - start_time\n",
        "print('Время кодирования через OneHotEncoder:', finish_time)\n",
        "print('Размер полученных данных:', X_train_oh_sparse.shape)\n",
        "\n",
        "X_train_all_sparse = sparse.csr_matrix(X_train_targets.astype(float))\n",
        "X_train_all_sparse = sparse.hstack([X_train_all_sparse, X_train_oh_sparse])\n",
        "del X_train_oh_sparse"
      ],
      "metadata": {
        "colab": {
          "base_uri": "https://localhost:8080/"
        },
        "id": "5V3cHQ3vVqgV",
        "outputId": "e1210277-4699-4d02-f6bb-a0d7a5c06d86"
      },
      "execution_count": 61,
      "outputs": [
        {
          "output_type": "stream",
          "name": "stdout",
          "text": [
            "Время кодирования через OneHotEncoder: 1.725022554397583\n",
            "Размер полученных данных: (150679, 34420)\n"
          ]
        }
      ]
    },
    {
      "cell_type": "code",
      "execution_count": 62,
      "metadata": {
        "id": "XQvogY7QQDYJ",
        "colab": {
          "base_uri": "https://localhost:8080/"
        },
        "outputId": "a77f70e4-5608-46e7-fc77-a870aa98eb42"
      },
      "outputs": [
        {
          "output_type": "stream",
          "name": "stdout",
          "text": [
            "Время обучения CatBoost (Combined target and One Hot): 70.88942980766296\n"
          ]
        }
      ],
      "source": [
        "# CatBoost Combined\n",
        "\n",
        "catboost_clf = CatBoostClassifier(max_depth=3, n_estimators=500, learning_rate=0.1, logging_level='Silent')\n",
        "start_time = time()\n",
        "cb_trained = catboost_clf.fit(X_train_all_sparse, y_train)\n",
        "cb_fit_time = time() - start_time\n",
        "print('Время обучения CatBoost (Combined target and One Hot):', cb_fit_time)"
      ]
    },
    {
      "cell_type": "code",
      "execution_count": 63,
      "metadata": {
        "id": "f97juQ2bQ0Od",
        "colab": {
          "base_uri": "https://localhost:8080/"
        },
        "outputId": "c4de64dc-7b3d-4289-cb2c-0e454f107dc7"
      },
      "outputs": [
        {
          "output_type": "stream",
          "name": "stdout",
          "text": [
            "Время обучения LightGBM (Combined): 43.81108593940735\n"
          ]
        }
      ],
      "source": [
        "# LightGBM Combined\n",
        "\n",
        "lightgbm_clf = LGBMClassifier(max_depth=4, n_estimators=100, learning_rate=0.1, verbose=-1)\n",
        "start_time = time()\n",
        "lgbm_trained = lightgbm_clf.fit(X_train_all_sparse, y_train)\n",
        "lgbm_fit_time = time() - start_time\n",
        "print('Время обучения LightGBM (Combined):', lgbm_fit_time)"
      ]
    },
    {
      "cell_type": "code",
      "source": [
        "del X_train_all_sparse"
      ],
      "metadata": {
        "id": "5VjUxCfXV7do"
      },
      "execution_count": 64,
      "outputs": []
    },
    {
      "cell_type": "markdown",
      "metadata": {
        "id": "3dTB-1z1aKRu"
      },
      "source": [
        "**Your answer here:**\n",
        "\n",
        "Проведём сравнение времени:\n",
        "\n",
        "1. ***CatBoost***\n",
        "\n",
        "    * Target: 31.8\n",
        "    * OneHotEncoder: 66.2\n",
        "    * Combined: 70.9\n",
        "\n",
        "2. ***LightGBM***\n",
        "\n",
        "    * Target: 10.9\n",
        "    * OneHotEncoder: 50.6\n",
        "    * Combined: 43.8\n",
        "\n",
        "Видим, что кодирование счётчиками со сглаживанием требует в разы меньше времени, чем OneHotEncoder. CatBoost обучается в 2 раза быстрее, LightGBM в 5 раз быстрее.\n",
        "\n"
      ]
    },
    {
      "cell_type": "markdown",
      "metadata": {
        "id": "TxHmw3L5aKRu"
      },
      "source": [
        "**Задание 8 (1 балл)**\n",
        "\n",
        "**(0.5 баллa)** Для CatBoost можно не делать ручную обработку категориальных признаков, а подавать как есть. Обучите модель CatBoost, не обрабатывая специально категориальные признаки, замерьте время обучения (параметры возьмите из предыдущего пункта).  \n",
        "\n",
        "**(0.5 баллa) (?)**Сравните с временем обучения модели CatBoost из предыдущего пункта. Как изменилось время? Почему?"
      ]
    },
    {
      "cell_type": "code",
      "execution_count": 65,
      "metadata": {
        "id": "TYv-EBeKaKRu",
        "colab": {
          "base_uri": "https://localhost:8080/"
        },
        "outputId": "186df38f-a22f-4eb1-edba-3b659f97bc13"
      },
      "outputs": [
        {
          "output_type": "stream",
          "name": "stdout",
          "text": [
            "Время обучения CatBoost (all in): 171.40339398384094\n"
          ]
        }
      ],
      "source": [
        "# CatBoost all in\n",
        "\n",
        "catboost_clf = CatBoostClassifier(max_depth=3,\n",
        "                                  n_estimators=500,\n",
        "                                  learning_rate=0.1,\n",
        "                                  logging_level='Silent',\n",
        "                                  cat_features=cat_inds)\n",
        "start_time = time()\n",
        "cb_all_trained = catboost_clf.fit(X_train, y_train)\n",
        "cb_fit_time = time() - start_time\n",
        "print('Время обучения CatBoost (all in):', cb_fit_time)"
      ]
    },
    {
      "cell_type": "markdown",
      "metadata": {
        "id": "BsulxgHaaKRu"
      },
      "source": [
        "**Your answer here:**\n",
        "\n",
        "Время обучения CatBoost увеличилось в разы. Это как раз связано с тем, что CatBoost самостоятельно кодирует категориальные признаки через подсчёт различных статистик по категориальным признакам и их комбинациям, а также по комбинациям категориальных и числовых признаков. CatBoost также поддерживает самостоятельное использование OneHotEncoder, либо счётчики -> [CatBoost Encoding](https://catboost.ai/en/docs/concepts/algorithm-main-stages_cat-to-numberic)\n"
      ]
    },
    {
      "cell_type": "markdown",
      "metadata": {
        "id": "A8OGTT7DaKRu"
      },
      "source": [
        "**Бонус. (1 балл)**\n",
        "\n",
        "**(0.5 баллa)**Подберите оптимальные параметры для LightGBM с вещественными и категориальными признаками (предварительно обработанные каким-нибудь способом). Подберите оптимальные параметры для CatBoost с вещественными и необработанными категориальными признаками.\n",
        "\n",
        "**(0.5 баллa) (?)**Сравните качество моделей на наилучших параметрах. Какой метод получился лучше с точки зрения качества? Совпадает ли результат с вашими ожиданиями?"
      ]
    },
    {
      "cell_type": "code",
      "execution_count": 66,
      "metadata": {
        "id": "B01kF-dSaKRu"
      },
      "outputs": [],
      "source": [
        "# LightGBM\n",
        "\n",
        "start_time = time()\n",
        "lgbm_params, lgbm_score, lgbm = get_best_model(LGBMClassifier(force_row_wise=True), {'learning_rate': np.logspace(-4, -1, 4), 'n_estimators': [10, 100, 300, 500], 'verbose': [-1]}, X_train_targets, y_train)\n",
        "finish_time_lgbm_1 = time() - start_time"
      ]
    },
    {
      "cell_type": "code",
      "source": [
        "print('Лучшие параметры (LGBM):', lgbm_params)\n",
        "print('Достигнутый ROC-AUC (LGBM):', lgbm_score)\n",
        "print('Время подбора гиперпараметров (LGBM):', finish_time_lgbm_1)"
      ],
      "metadata": {
        "colab": {
          "base_uri": "https://localhost:8080/"
        },
        "id": "f1pQiGUpSL5S",
        "outputId": "ff960897-740c-4f39-aead-c518a1299a9b"
      },
      "execution_count": 67,
      "outputs": [
        {
          "output_type": "stream",
          "name": "stdout",
          "text": [
            "Лучшие параметры (LGBM): {'learning_rate': 0.01, 'n_estimators': 500, 'verbose': -1}\n",
            "Достигнутый ROC-AUC (LGBM): 0.7447481110821754\n",
            "Время подбора гиперпараметров (LGBM): 944.7970306873322\n"
          ]
        }
      ]
    },
    {
      "cell_type": "code",
      "source": [
        "# LightGBM - last hyperparameter\n",
        "start_time = time()\n",
        "best_lgbm_params, best_lgbm_score, best_lgbm = get_best_model(lgbm, {'max_depth': [3, 4, 5, 7], 'verbose': [-1]}, X_train_targets, y_train)\n",
        "finish_time_lgbm_2 = time() - start_time"
      ],
      "metadata": {
        "id": "qvn1ii7uSOl-"
      },
      "execution_count": 68,
      "outputs": []
    },
    {
      "cell_type": "code",
      "source": [
        "print('Лучшие параметры (LGBM):', best_lgbm_params)\n",
        "print('Достигнутый ROC-AUC (LGBM):', best_lgbm_score)\n",
        "print('Время подбора гиперпараметров (LGBM):', finish_time_lgbm_2)"
      ],
      "metadata": {
        "colab": {
          "base_uri": "https://localhost:8080/"
        },
        "id": "iLIYD8VRSSTG",
        "outputId": "25e9c19b-7f2e-4258-9d10-e3e04652251a"
      },
      "execution_count": 69,
      "outputs": [
        {
          "output_type": "stream",
          "name": "stdout",
          "text": [
            "Лучшие параметры (LGBM): {'max_depth': 7, 'verbose': -1}\n",
            "Достигнутый ROC-AUC (LGBM): 0.7445834428626229\n",
            "Время подбора гиперпараметров (LGBM): 397.05449962615967\n"
          ]
        }
      ]
    },
    {
      "cell_type": "code",
      "source": [
        "# CatBoost\n",
        "start_time = time()\n",
        "catboost_params, catboost_score, catboost = get_best_model(CatBoostClassifier(logging_level='Silent', cat_features=cat_inds), {'learning_rate': np.logspace(-4, -1, 4), 'n_estimators': [10, 100, 300, 500]}, X_train, y_train)\n",
        "finish_time_cb_1 = time() - start_time"
      ],
      "metadata": {
        "id": "6VyyKYW_SYVt"
      },
      "execution_count": 71,
      "outputs": []
    },
    {
      "cell_type": "code",
      "source": [
        "print('Лучшие параметры (CatBoost):', catboost_params)\n",
        "print('Достигнутый ROC-AUC (CatBoost):', catboost_score)\n",
        "print('Время подбора гиперпараметров (CatBoost):', finish_time_cb_1)"
      ],
      "metadata": {
        "colab": {
          "base_uri": "https://localhost:8080/"
        },
        "id": "I-qWPqvmSai6",
        "outputId": "c4aec29d-342b-4283-98fd-76ee33d72bb3"
      },
      "execution_count": 72,
      "outputs": [
        {
          "output_type": "stream",
          "name": "stdout",
          "text": [
            "Лучшие параметры (CatBoost): {'learning_rate': 0.1, 'n_estimators': 300}\n",
            "Достигнутый ROC-AUC (CatBoost): 0.7504748776959452\n",
            "Время подбора гиперпараметров (CatBoost): 4494.733530521393\n"
          ]
        }
      ]
    },
    {
      "cell_type": "code",
      "source": [
        "# CatBoost - last hyperparameter\n",
        "start_time = time()\n",
        "best_catboost_params, best_catboost_score, best_lgbm = get_best_model(catboost, {'max_depth': [3, 4, 5, 7]}, X_train, y_train)\n",
        "finish_time_cb_2 = time() - start_time"
      ],
      "metadata": {
        "id": "xtQxLqquSdct"
      },
      "execution_count": 73,
      "outputs": []
    },
    {
      "cell_type": "code",
      "source": [
        "print('Лучшие параметры (CatBoost):', best_catboost_params)\n",
        "print('Достигнутый ROC-AUC (CatBoost):', best_catboost_score)\n",
        "print('Время подбора гиперпараметров (CatBoost):', finish_time_cb_2)"
      ],
      "metadata": {
        "colab": {
          "base_uri": "https://localhost:8080/"
        },
        "id": "1imezqlXSfo5",
        "outputId": "cb05a561-ff81-4e68-e860-76d852953bc6"
      },
      "execution_count": 74,
      "outputs": [
        {
          "output_type": "stream",
          "name": "stdout",
          "text": [
            "Лучшие параметры (CatBoost): {'max_depth': 4}\n",
            "Достигнутый ROC-AUC (CatBoost): 0.7509886635031942\n",
            "Время подбора гиперпараметров (CatBoost): 1550.1284210681915\n"
          ]
        }
      ]
    },
    {
      "cell_type": "markdown",
      "source": [
        "**Ответ:**\n",
        "\n",
        "Для LightGBM получили оптимальные параметры:\n",
        "1. Глубина деревьев = 7\n",
        "2. Количество деревьев = 500\n",
        "3. Шаг обучения = 0.01\n",
        "\n",
        "Для CatBoost имеем следующие оптимальные параметры:\n",
        "1. Глубина деревьев = 4\n",
        "2. Количество деревьев = 300\n",
        "3. Шаг обучения = 0.1\n",
        "\n",
        "Лучшее качество LightGBM = 0.7445834\n",
        "\n",
        "Лучшее качество CatBoost = 0.7509887\n",
        "\n",
        "CatBoost показывает качество лучше, что и оправдывает ожидания. По скорости в разы быстрее оказался LightGBM"
      ],
      "metadata": {
        "id": "4pUKO9DKTRiR"
      }
    },
    {
      "cell_type": "markdown",
      "metadata": {
        "id": "bKYsHdrPaKRu"
      },
      "source": [
        "**Бонус (0.2 балла)**\n",
        "\n",
        "Ваш любимый новогодний фильм/сериал/мультик/книга/музыка/развление/ч-т-о-у-г-о-д-н-о\n",
        "\n",
        "Всем мандаринок!&#127818;"
      ]
    },
    {
      "cell_type": "markdown",
      "metadata": {
        "id": "O3aMZun8aKRy"
      },
      "source": [
        "#### Ваш ответ здесь╰( ͡° ͜ʖ ͡° )つ──☆*:・ﾟ\n",
        "\n",
        "Фильм: Ну, тут без вопросов - Гарри Поттер (все части абсолютно)\n",
        "\n",
        "Сериал: На данный момент - Сверхъестественное\n",
        "\n",
        "Мультик: Точно Гравити Фолз и Кик Бутовски ⚡\n",
        "\n",
        "Книга: Пока что - \"Игра Эндера\" Орсона Скотта\n",
        "\n",
        "Музыка: Poets of the Fall ♥\n",
        "\n",
        "Аниме: One-punch man\n",
        "\n",
        "\n",
        "\n"
      ]
    }
  ],
  "metadata": {
    "colab": {
      "provenance": []
    },
    "kernelspec": {
      "display_name": "Python 3",
      "language": "python",
      "name": "python3"
    },
    "language_info": {
      "codemirror_mode": {
        "name": "ipython",
        "version": 3
      },
      "file_extension": ".py",
      "mimetype": "text/x-python",
      "name": "python",
      "nbconvert_exporter": "python",
      "pygments_lexer": "ipython3",
      "version": "3.8.8"
    }
  },
  "nbformat": 4,
  "nbformat_minor": 0
}